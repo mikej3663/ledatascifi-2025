{
 "cells": [
  {
   "cell_type": "markdown",
   "metadata": {},
   "source": [
    "# Working with Python Strings\n",
    "\n",
    "Python handles string objects powerfully and elegantly. There are a LOT of great tutorials and walkthroughs online, so I'm not going to replicate them. I'll list what I think are the barebones stuff here, and a few resources for you to reference. \n",
    "\n",
    "- [Whirlwind of Python on strings](https://github.com/jakevdp/WhirlwindTourOfPython/blob/master/14-Strings-and-Regular-Expressions.ipynb)\n",
    "- [The top youtube hit for \"python strings\"](https://www.youtube.com/watch?v=k9TUPpGqYTo) \n"
   ]
  },
  {
   "cell_type": "markdown",
   "metadata": {},
   "source": [
    "## A few things to know\n",
    "\n",
    "Again, just a FEW basics.\n",
    "\n",
    "- concatenate two strings with '+'\n",
    "- you can slice strings like a list\n"
   ]
  },
  {
   "cell_type": "code",
   "execution_count": 1,
   "metadata": {},
   "outputs": [
    {
     "data": {
      "text/plain": [
       "' y'"
      ]
     },
     "execution_count": 1,
     "metadata": {},
     "output_type": "execute_result"
    }
   ],
   "source": [
    "a_str = 'Hey you' + ' there' # concatenate strings\n",
    "a_str[3:5]"
   ]
  },
  {
   "cell_type": "markdown",
   "metadata": {},
   "source": [
    "- Use functions: `.split()`, takes a string and returns a list of strings, while `.join()` takes a list and returns one string"
   ]
  },
  {
   "cell_type": "code",
   "execution_count": 2,
   "metadata": {},
   "outputs": [
    {
     "data": {
      "text/plain": [
       "['Hey', 'you', 'there']"
      ]
     },
     "execution_count": 2,
     "metadata": {},
     "output_type": "execute_result"
    }
   ],
   "source": [
    "a_str.split() #splits on spaces by default, notice the spaces are gone"
   ]
  },
  {
   "cell_type": "code",
   "execution_count": 3,
   "metadata": {},
   "outputs": [
    {
     "data": {
      "text/plain": [
       "['H', 'y you th', 'r', '']"
      ]
     },
     "execution_count": 3,
     "metadata": {},
     "output_type": "execute_result"
    }
   ],
   "source": [
    "a_str.split('e') # splits on the 'e's, notice the e's are gone"
   ]
  },
  {
   "cell_type": "code",
   "execution_count": 4,
   "metadata": {},
   "outputs": [
    {
     "data": {
      "text/plain": [
       "'Hey---you---there'"
      ]
     },
     "execution_count": 4,
     "metadata": {},
     "output_type": "execute_result"
    }
   ],
   "source": [
    "split_up = a_str.split()\n",
    "# syntax: <string to use as joiner>.join(<list of strings>)\n",
    "'---'.join(split_up)"
   ]
  },
  {
   "cell_type": "markdown",
   "metadata": {},
   "source": [
    "- You can wrap strings in ', \", ''', or \"\"\"\n",
    "    - If your string has ' or \" inside it, use the opposite quotation type as the wrapper\n",
    "    - ''' will let you use both internally, and the string can spill over multiple lines (like the doc string inside the functions in the community codebook folder)\n",
    "    \n",
    "- You can use `.replace()` to replace characters:    "
   ]
  },
  {
   "cell_type": "code",
   "execution_count": 5,
   "metadata": {},
   "outputs": [
    {
     "data": {
      "text/plain": [
       "'HHHHey you there'"
      ]
     },
     "execution_count": 5,
     "metadata": {},
     "output_type": "execute_result"
    }
   ],
   "source": [
    "a_str.replace('H','HHHH')"
   ]
  }
 ],
 "metadata": {
  "kernelspec": {
   "display_name": "Python 3 (ipykernel)",
   "language": "python",
   "name": "python3"
  },
  "language_info": {
   "codemirror_mode": {
    "name": "ipython",
    "version": 3
   },
   "file_extension": ".py",
   "mimetype": "text/x-python",
   "name": "python",
   "nbconvert_exporter": "python",
   "pygments_lexer": "ipython3",
   "version": "3.8.12"
  }
 },
 "nbformat": 4,
 "nbformat_minor": 4
}
