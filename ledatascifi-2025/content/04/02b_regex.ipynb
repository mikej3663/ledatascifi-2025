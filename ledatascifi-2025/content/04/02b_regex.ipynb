{
 "cells": [
  {
   "cell_type": "markdown",
   "metadata": {},
   "source": [
    "# Regex basics\n",
    "\n",
    "```{tip}\n",
    "The best ways to learn and use regex are:\n",
    "1. [https://regexone.com/](https://regexone.com) is so good, I'm loath to add anything else to this page.\n",
    "2. The [official python documentation](https://docs.python.org/3/library/re.html) and its [HOWTO page](https://docs.python.org/3/howto/regex.html)\n",
    "3. Google+stackoverflow. If someone has done something similar and found a solution, great!\n",
    "```\n",
    "\n",
    "Imagine you have a webpage or document which includes (buried in the text) a bunch of numbers. How can you collect all the phone numbers?\n",
    "\n",
    "A: Look for all the instances of this pattern: (###) ###-####.\n",
    "\n",
    "Your eyeballs can easily do that, but once the job involves enough numbers, it makes sense to let your computer do it for you. \n",
    "\n",
    "```{admonition} **Regex is how you tell a computer to search for any pattern within a string.**\n",
    "- Phone numbers \n",
    "- Emails (regex is why people don't spell out their emails \"correctly\" online)\n",
    "- Addresses\n",
    "- Certain words/topics (like assignment 5!)\n",
    "```\n",
    "\n",
    "## Regex in Python\n",
    "\n",
    "```{tip}\n",
    "Regex is a skill that works in all programming languages, so this lesson is portable - you can use regex in R or whatever your language of choice is.\n",
    "```\n",
    "\n",
    "But obviously, we're going to use python. **Add `import re` to the top of your code to load the regex package.**\n",
    "\n",
    "### Common functions:\n",
    "\n",
    "[The full list of functions is here](https://docs.python.org/3/library/re.html#module-contents).\n",
    "\n",
    "- `re.search(pattern, string, karg**)` looks for the **first instance** of the regex pattern within the string and returns a \"match object\" if one is found. Returns `None` if no match.  "
   ]
  },
  {
   "cell_type": "code",
   "execution_count": 1,
   "metadata": {},
   "outputs": [
    {
     "data": {
      "text/plain": [
       "<re.Match object; span=(2, 3), match='c'>"
      ]
     },
     "execution_count": 1,
     "metadata": {},
     "output_type": "execute_result"
    }
   ],
   "source": [
    "import re\n",
    "re.search(\"c\", \"abcdef\")"
   ]
  },
  {
   "cell_type": "markdown",
   "metadata": {},
   "source": [
    "- `re.findall(pattern,string)` returns a list of matching strings, and **is how you can count the number of matches**\n"
   ]
  },
  {
   "cell_type": "code",
   "execution_count": 2,
   "metadata": {},
   "outputs": [
    {
     "data": {
      "text/plain": [
       "['carefully', 'quickly']"
      ]
     },
     "execution_count": 2,
     "metadata": {},
     "output_type": "execute_result"
    }
   ],
   "source": [
    "text = \"He was carefully disguised but captured quickly by police.\"\n",
    "re.findall(r\"\\w+ly\", text)"
   ]
  },
  {
   "cell_type": "code",
   "execution_count": 3,
   "metadata": {},
   "outputs": [
    {
     "data": {
      "text/plain": [
       "2"
      ]
     },
     "execution_count": 3,
     "metadata": {},
     "output_type": "execute_result"
    }
   ],
   "source": [
    "len(re.findall(r\"\\w+ly\", text))"
   ]
  },
  {
   "cell_type": "markdown",
   "metadata": {},
   "source": [
    "- `re.finditer(pattern,string)` is similar to `findall` but gives you a list of match objects, which is nice if you want to get more info about the matches than just the string"
   ]
  },
  {
   "cell_type": "code",
   "execution_count": 4,
   "metadata": {},
   "outputs": [
    {
     "name": "stdout",
     "output_type": "stream",
     "text": [
      "07-16: carefully\n",
      "40-47: quickly\n"
     ]
    }
   ],
   "source": [
    "# i want to find all of the adverbs AND THEIR POSITIONS in some text\n",
    "text = \"He was carefully disguised but captured quickly by police.\"\n",
    "for m in re.finditer(r\"\\w+ly\", text):\n",
    "    print('%02d-%02d: %s' % (m.start(), m.end(), m.group(0)))"
   ]
  },
  {
   "cell_type": "markdown",
   "metadata": {},
   "source": [
    "- `pattern_to_use = re.compile(pattern)` will create a pattern you can put as the input to `search`, `find`, and `findall`."
   ]
  },
  {
   "cell_type": "markdown",
   "metadata": {},
   "source": [
    "- `.group(#)` if your search or match has parenthesized subgroups, you can access each parenthetical. "
   ]
  },
  {
   "cell_type": "code",
   "execution_count": 5,
   "metadata": {},
   "outputs": [
    {
     "data": {
      "text/plain": [
       "'Isaac Newton'"
      ]
     },
     "execution_count": 5,
     "metadata": {},
     "output_type": "execute_result"
    }
   ],
   "source": [
    "m = re.match(r\"(\\w+) (\\w+)\", \"Isaac Newton, physicist\")  \n",
    "m.group(0)       # The entire match"
   ]
  },
  {
   "cell_type": "code",
   "execution_count": 6,
   "metadata": {},
   "outputs": [
    {
     "data": {
      "text/plain": [
       "'Isaac'"
      ]
     },
     "execution_count": 6,
     "metadata": {},
     "output_type": "execute_result"
    }
   ],
   "source": [
    "m.group(1)       # The first parenthesized subgroup."
   ]
  },
  {
   "cell_type": "code",
   "execution_count": 7,
   "metadata": {},
   "outputs": [
    {
     "data": {
      "text/plain": [
       "'Newton'"
      ]
     },
     "execution_count": 7,
     "metadata": {},
     "output_type": "execute_result"
    }
   ],
   "source": [
    "m.group(2)       # The second parenthesized subgroup."
   ]
  },
  {
   "cell_type": "code",
   "execution_count": 8,
   "metadata": {},
   "outputs": [
    {
     "data": {
      "text/plain": [
       "('Isaac', 'Newton')"
      ]
     },
     "execution_count": 8,
     "metadata": {},
     "output_type": "execute_result"
    }
   ],
   "source": [
    "m.group(1, 2)    # Multiple arguments give us a tuple."
   ]
  },
  {
   "cell_type": "markdown",
   "metadata": {},
   "source": [
    "### Special characters to build your patterns\n",
    "\n",
    "Most of this is taken directly from the [official documentation](https://docs.python.org/3/library/re.html).\n",
    "\n",
    "| Char | Matches |\n",
    "| :--- | :--- |\n",
    "| `.` | any character except a newline |\n",
    "| `^` | start of the string <br> <br> `^[a-z]+` matches the \"hi\" in \"hi there\" but not \"there\" |\n",
    "| `$` | end of the string or just before the newline at the end of the string <br> <br>   `foo` matches both 'foo' and 'foobar', but `foo$` matches only 'foo' |\n",
    "| `*` |  match 0 or more repetitions of the preceding RE, as many repetitions as are possible. `ab*` will match \"a\", \"ab\", or \"abbbbbbb\" |\n",
    "| `+` |  match 1 or more repetitions of the preceding RE, as many repetitions as are possible. `ab+` will match \"ab\", or \"abbbbbbb\" but not \"a\" |\n",
    "| `?` |  match 0 or 1 repetitions of the preceding RE. `ab?` will match \"a\" and \"ab\" |\n",
    "| `{m}` |  match `m` repetitions of the preceding RE. `ab{3}` will match \"abbb\" but not \"abb\" |\n",
    "| `{m,n}` | match `m` to `n` repetitions of the preceding RE. `ab{3,5}` will match \"abbb\" and \"abbbbb\" but not \"abb\" |\n",
    "\n",
    "Note: Do you want the largest match or the smallest?\n",
    "- **`*`, `+`, `{m}` and `{m,n}` are GREEDY: they match as much text as possible.** So if you search `ab+` against \"abbb\" it will match the full string \"abbb\". But sometimes you want\n",
    "- If you add `?` to any of those, it will perform the match in a minimal way: using `ab+` on string \"abbbbb\" will just return \"ab\". Use `ab*` instead and you'll get \"a\". \n",
    "\n",
    "| Char | Matches |\n",
    "| :--- | :--- |\n",
    "| `\\` | 1. escapes special characters `\\*` will actually search for an asterisk. <br><br> 2. or signals a \"special sequence\" |\n",
    "| `[]` | Indicates a set of characters. In a set: `[amk]` will match 'a', 'm', or 'k'. <br> <br> Common ranges: `[a-z]`, `[A-Z]`,  `[0-9]`. You can combine ranges: `[A-Za-z0-9]`. <br> <br> Special characters lose their special meaning inside sets. For example, `[(+*)]` will match any of the literal characters `(`, `+`, `*`, or `)`. |\n",
    "| `(...)` | Makes a group. POWERFUL and necessary in most uses of regex. <br> <br> If you actually want to match parentheses, use a backslash: `\\(` |\n",
    "\n",
    "There is SO MANY more special characters. If you can imagine a \"feature\" in the pattern of a string, there is probably a special character. `\\b` matches word boundaries, `\\d for digits, `\\s` for whitespace, and more.\n",
    "\n",
    "```{tip}\n",
    "In practice, most \"regex\" is just Googling to see if someone has done a similar thing.\n",
    "```"
   ]
  },
  {
   "cell_type": "markdown",
   "metadata": {},
   "source": [
    "A few pointers:\n",
    "- You only benefit from using `re.compile` when you are creating a bunch of regex patterns. In that case, you \"compile\" them and can immediately use them all quickly. But if you only have a few patterns, don't bother.\n",
    "- `re.match` is similar to `re.search`, but only starts at the beginning of the string. I don't use `match` almost ever.\n",
    "\n",
    "```{admonition} Raw string notation\n",
    "\n",
    "You'll often see people put an \"r\" in from of the regex pattern. For example: `re.search(r\"c\", \"abcdef\")`.\n",
    "```\n",
    "\n",
    "**Raw string notation (`r\"text\"`) keeps regular expressions sane. Without it, every backslash ('\\') in a regular expression would have to be prefixed with another one to escape it.**\n",
    "\n",
    "```PYTHON\n",
    "# These lines are functionally identical\n",
    ">>> re.match(r\"\\W(.)\\1\\W\", \" ff \")\n",
    "<re.Match object; span=(0, 4), match=' ff '>\n",
    ">>> re.match(\"\\\\W(.)\\\\1\\\\W\", \" ff \")\n",
    "<re.Match object; span=(0, 4), match=' ff '>\n",
    "\n",
    "# so are these:\n",
    ">>> re.match(r\"\\\\\", r\"\\\\\")\n",
    "<re.Match object; span=(0, 1), match='\\\\'>\n",
    ">>> re.match(\"\\\\\\\\\", r\"\\\\\")\n",
    "<re.Match object; span=(0, 1), match='\\\\'>\n",
    "```\n"
   ]
  }
 ],
 "metadata": {
  "kernelspec": {
   "display_name": "Python 3 (ipykernel)",
   "language": "python",
   "name": "python3"
  },
  "language_info": {
   "codemirror_mode": {
    "name": "ipython",
    "version": 3
   },
   "file_extension": ".py",
   "mimetype": "text/x-python",
   "name": "python",
   "nbconvert_exporter": "python",
   "pygments_lexer": "ipython3",
   "version": "3.8.13"
  }
 },
 "nbformat": 4,
 "nbformat_minor": 4
}
