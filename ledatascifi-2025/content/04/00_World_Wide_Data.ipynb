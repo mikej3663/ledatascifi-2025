{
 "cells": [
  {
   "cell_type": "markdown",
   "metadata": {},
   "source": [
    "# Data on the Web\n"
   ]
  },
  {
   "cell_type": "markdown",
   "metadata": {},
   "source": [
    "> some data will be given to you.\n",
    ">\n",
    "> but most of the world's data is uncollected and unorganized (despite google's best efforts)\n",
    ">\n",
    "> finding and using that data - that's where we make our money\n",
    "\n",
    "Now that we can use Python and Pandas to [see(born) the data better](../02/04_Making_Good_Viz_Happen.html) (ouch), the only thing stopping us is a lack of (\"big\") data. So, you know what we need to do...\n",
    "\n",
    "***It’s time to hack stuff.***[^legal]\n",
    "\n",
    "<!-- ![](https://media.giphy.com/media/CzbiCJTYOzHTW/giphy.gif \"Step 1\") -->\n",
    "<img src=\"https://media.giphy.com/media/CzbiCJTYOzHTW/giphy.gif\" title =\"Step 1\" style=\"width:500px;\"/>\n",
    "\n",
    "\n",
    "<img src=\"https://media.giphy.com/media/eCqFYAVjjDksg/giphy.gif\" title =\"Step 2\" style=\"width:500px;\"/>\n",
    "\n",
    "<!-- ![](https://media.giphy.com/media/eCqFYAVjjDksg/giphy.gif =250x \"Step 2\" ) -->\n",
    "\n",
    "Over the next two weeks*, we are going to cover(ish) \n",
    "- Scraping data from the web (finding, downloading, and saving tables and webpages)\n",
    "- Accessing the tables and text within HTML documents\n",
    "- How to (start to) harness the raw power of all that text\n",
    "\n",
    "**And when we are done? OH BOY! Then we will be:**\n",
    "\n",
    "<img src=\"https://media.giphy.com/media/MM0Jrc8BHKx3y/giphy.gif\" title =\"Or Hackerwoman, obviously\" style=\"width:500px;\"/>\n",
    "\n",
    "<!-- ![](https://media.giphy.com/media/MM0Jrc8BHKx3y/giphy.gif \"Or Hackerwoman, obviously\") -->\n",
    "\n",
    "[^legal]: _\"Lehigh University does not condone the use of hacking, even as a joke about our students' very impressive skills\"_ - Our general counsel, probably\n",
    "\n"
   ]
  }
 ],
 "metadata": {
  "kernelspec": {
   "display_name": "Python 3",
   "language": "python",
   "name": "python3"
  },
  "language_info": {
   "codemirror_mode": {
    "name": "ipython",
    "version": 3
   },
   "file_extension": ".py",
   "mimetype": "text/x-python",
   "name": "python",
   "nbconvert_exporter": "python",
   "pygments_lexer": "ipython3",
   "version": "3.8.5"
  }
 },
 "nbformat": 4,
 "nbformat_minor": 4
}
