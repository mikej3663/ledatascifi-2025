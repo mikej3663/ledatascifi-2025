{
 "cells": [
  {
   "cell_type": "markdown",
   "metadata": {},
   "source": [
    "# Motivation, \n",
    "\n",
    "## Or: Should I take this class (A: YES!)\n"
   ]
  },
  {
   "cell_type": "markdown",
   "metadata": {},
   "source": [
    "Employers are starving for talented students that can analyze large datasets, and they are willing to pay for it:\n",
    "\n",
    "````{tabbed} Lehigh pay\n",
    "```{image} ./img/lehigh.png\n",
    ":alt: lingotrend\n",
    ":width: 600px\n",
    ":align: center\n",
    "```\n",
    "````\n",
    "\n",
    "````{tabbed} Jobs and pay by language\n",
    "Python is #2 among languages in terms of salary:\n",
    "\n",
    "```{image} ./img/indeed.png\n",
    ":alt: indeeed\n",
    ":width: 600px\n",
    ":align: center\n",
    "```\n",
    "````\n",
    "\n",
    "````{tabbed} DS Jobs\n",
    "Within \"data science\" itself (a broader category than finance jobs with data science), python has the most jobs:\n",
    "\n",
    "```{image} ./img/jobs-by-lang.png\n",
    ":alt: jobs\n",
    ":width: 600px\n",
    ":align: center\n",
    "```\n",
    "````\n",
    "\n",
    "````{tabbed} Stackoverflow\n",
    "Among the common alternative data science languages, python is the most popular on SO:\n",
    "\n",
    "```{image} ./img/stackoverflowstrends.svg\n",
    ":alt: lingotrend\n",
    ":width: 600px\n",
    ":align: center\n",
    "```\n",
    "````\n",
    "\n",
    "Coding skills are valuable to your resume because computing power can make you more productive at tasks. You'll see an example of this on our first day in class. This is why knowing how to code will open more interview doors and possibly lead to improved job offers (and change the trajectory of your career). \n",
    "\n",
    "Still, most students in this class do not have a comparative advantage in the labor market in terms of their computer science skills relative to students in CS programs. That's fine! Most students in this class don't want pure CS jobs. \n",
    "\n",
    "```{tip}\n",
    "Your comparative advantage is probably the ability to apply your business acumen to problems where coding plays a role in analyzing potential business decisions or setting up a production pipeline!\n",
    "\n",
    "This is VERY valuable! \n",
    "```\n",
    "\n",
    "A saw can be dangerous, useless, or useful - which it is depends on the context you use it in.\n",
    "\n",
    "ML techniques, computing power, and big data can be dangerous, useless, or useful - which it is depends on the context you use it in. In particular, what are the relevant economics you're facing? A great coder might ignore the economics, but your previous classes will help you evaluate the economics! \n",
    "\n",
    "```{important}\n",
    "Adding this class to your Lehigh business education gives you a set of complementary skills: The ability to use high-power datasets and analysis within a framework for problem-solving.\n",
    "```\n"
   ]
  },
  {
   "cell_type": "markdown",
   "metadata": {
    "slideshow": {
     "slide_type": "slide"
    }
   },
   "source": [
    "## How to create value\n",
    "\n",
    "One way:\n",
    "\n",
    "1. Identify a problem: A business need, a market with frictions. \n",
    "1. Define your project: A clearly specified question with metrics for success and an idea of impact. Always keep the big picture, and economic context, in mind!\n",
    "2. Work _**collaboratively**_ on the problem: Interesting problems are **big**, and require teamwork. Sir Edmund Hilary does not summit Everest without Tsenging Norgue. \n",
    "3. Acquire data and clean it: Age-old wisdom tells us that if the input is crap, the output will be... Thus, time spent on cleaning data is often more valuable than time spent on modeling.\n",
    "4. Explore the data.\n",
    "5. Analysis, using appropriate modeling tools. Students get excited about modeling techniques, but this is <25% of the work on most projects.\n",
    "6. Deliver the project conclusions to higher-ups in the form of clear business recommendations. Writing should always be geared to the audience, and managers typically want bottom lines, whereas technical leads need more technical justification.\n",
    "\n",
    "```{note}\n",
    "Understanding and practicing each of these steps is valuable, even if you never code again after this class!\n",
    "```\n",
    "\n",
    "You've applied these steps in previous classes. (For example, valuing a potential merger.) The goal of this class is to expand the set of problems you can work on! "
   ]
  },
  {
   "cell_type": "markdown",
   "metadata": {},
   "source": [
    "## From here to there...\n",
    "\n",
    "I've designed this class with the hope that you'll be prepared and able to execute each of those steps. \n",
    "\n",
    "**By the end of the semester, your resume, should you choose to, can include your (burgeoning) proficiency with Python, Github, Machine Learning (ML) tools, web scraping, and data viz, in addition to describing your exploits on Github and the final course project.** \n",
    "\n",
    "So, your journey this semester is hopefully something like:[^me]\n",
    "\n",
    "![](img/sarahchange.png)\n",
    "\n",
    "Exciting!\n",
    "\n",
    "[^me]: I guess that makes me your old assistant on the journey... ![](img/oldarnold.jpg)\n",
    "\n",
    "## Our partnership\n",
    "\n",
    "**Your half of the bargain**: \n",
    "1. You will have to work outside of class quite a bit.\n",
    "2. You will seek help when you need it. Resources are available: me, the TA, the resources section of the website, and your classmates.\n",
    "    - **When you have questions, ask!** Falling behind is costly, and asking a question is cheap. In fact, community participation (which includes asking questions) is rewarded explicitly in grading. \n",
    "    - If you're confused or having computer issues, someone else surely is too. \n",
    "\n",
    "**My half of the bargain:** I will work just as hard as you throughout the semester to improve this new class. I'm very available for help. When something doesn't work out, I'll try to improve it.\n",
    "\n",
    "## Ambitious but feasible\n",
    "\n",
    "**This class is ambitious!** You will need to learn skills from computer science, statistics, and econometrics just so that we have the toolkit needed to begin analysis. I'm aiming to make each of those components accessible (e.g. we won't prove any theorems, and I'm boiling down programming to essentials). Still, that menu of skills is not easy to acquire (that's why employers pay \\$\\$\\$ for it!).\n"
   ]
  },
  {
   "cell_type": "markdown",
   "metadata": {},
   "source": [
    "If you've never programmed: \n",
    "\n",
    "- **Students with no programming background have succeeded every semester.**\n",
    "- I swear, youngens these days have it so much easier![^youngens] **Seriously, getting Python up and running has never been quicker, and we will have some working code soon!**\n",
    "- You will be frustrated at times. This is natural! No programmer exists who has not cursed their computer to the depths of hell. \n",
    "    - This is completely true: Half the time, it's a silly typo on line 42 of your code. Like, you literally misspelled \"regression\" as \"regresion\".\n",
    "    - Corollary: A lot of programming takes place after dark, under the influence of coffee and Red Bull. This is why you misspelled \"regresion\". Try to program at times when you have a clearer mind :)\n",
    "- Overcoming those frustrating issues feels soooooo good. You'll feel a sense of accomplishment. Fight for that!\n",
    "- Your classmates are in it too, and they can, and surely will, help.\n",
    "- Programming is not about memorizing the annoying details of 30 functions. I won't test you on memorization. \n",
    "\n"
   ]
  },
  {
   "cell_type": "markdown",
   "metadata": {},
   "source": [
    "[^youngens]: <img src=\"https://i.imgflip.com/3kc97l.jpg\" width=\"35%\"/>\n",
    "\n"
   ]
  }
 ],
 "metadata": {
  "celltoolbar": "Tags",
  "kernelspec": {
   "display_name": "Python 3 (ipykernel)",
   "language": "python",
   "name": "python3"
  },
  "language_info": {
   "codemirror_mode": {
    "name": "ipython",
    "version": 3
   },
   "file_extension": ".py",
   "mimetype": "text/x-python",
   "name": "python",
   "nbconvert_exporter": "python",
   "pygments_lexer": "ipython3",
   "version": "3.8.13"
  }
 },
 "nbformat": 4,
 "nbformat_minor": 4
}
