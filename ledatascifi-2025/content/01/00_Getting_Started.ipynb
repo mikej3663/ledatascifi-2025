{
 "cells": [
  {
   "cell_type": "markdown",
   "metadata": {},
   "source": [
    "# Getting the band together\n",
    "\n",
    "Data science requires [a particular set of skills](img/liam.jpg) and programs, like a [good heist team](https://www.imdb.com/title/tt0240772/), I suppose. Our team will consist of:\n",
    "* Jupyter Notebooks - to write, execute, and share Python code\n",
    "* GitHub - to back up work on projects, sync between teammates, and more\n",
    "* GitHub Desktop - Git is a _**version control system**_ and GitHub Desktop is a \"point and click\" version of Git designed to work with GitHub, which makes it easier to work on projects hosted on GitHub (it is annoying that the names are so similar, but Git $\\neq$ GitHub $\\neq$ GitHub Desktop!)\n",
    "* Skills: Coding (Python specifically, but especially good coding practices), Git habits, GitHub usage\n",
    "\n",
    "So, that is what this chapter of the book/module in the class is about. It's about laying the foundation for some cool stuff.\n",
    "\n",
    "![](https://media.giphy.com/media/l0IydR82cl8PYPRg4/giphy.gif)\n",
    "\n",
    "\n"
   ]
  }
 ],
 "metadata": {
  "kernelspec": {
   "display_name": "Python 3 (ipykernel)",
   "language": "python",
   "name": "python3"
  },
  "language_info": {
   "codemirror_mode": {
    "name": "ipython",
    "version": 3
   },
   "file_extension": ".py",
   "mimetype": "text/x-python",
   "name": "python",
   "nbconvert_exporter": "python",
   "pygments_lexer": "ipython3",
   "version": "3.8.13"
  }
 },
 "nbformat": 4,
 "nbformat_minor": 4
}
