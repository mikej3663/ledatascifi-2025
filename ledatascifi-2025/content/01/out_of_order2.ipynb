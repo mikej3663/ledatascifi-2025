{
 "cells": [
  {
   "cell_type": "markdown",
   "id": "f0113509-1fe8-4bfb-90d6-f88c5f2ef43a",
   "metadata": {},
   "source": [
    "If you run the _exact same code_ from scratch, you'll get a different answer: 5!\n",
    "\n",
    "Whoever wrote the prior analysis failed to use our golden rule: Restart the kernel and run all cells. "
   ]
  },
  {
   "cell_type": "code",
   "execution_count": 1,
   "id": "08dc454c-b44c-4dcb-a71f-5949c4890155",
   "metadata": {},
   "outputs": [],
   "source": [
    "a=2\n",
    "b=3"
   ]
  },
  {
   "cell_type": "code",
   "execution_count": 2,
   "id": "657453ab-0ec9-4f31-a7d8-d3025f6d55f7",
   "metadata": {},
   "outputs": [
    {
     "name": "stdout",
     "output_type": "stream",
     "text": [
      "5\n"
     ]
    }
   ],
   "source": [
    "b=b+a\n",
    "print(b)"
   ]
  }
 ],
 "metadata": {
  "kernelspec": {
   "display_name": "Python 3 (ipykernel)",
   "language": "python",
   "name": "python3"
  },
  "language_info": {
   "codemirror_mode": {
    "name": "ipython",
    "version": 3
   },
   "file_extension": ".py",
   "mimetype": "text/x-python",
   "name": "python",
   "nbconvert_exporter": "python",
   "pygments_lexer": "ipython3",
   "version": "3.8.11"
  }
 },
 "nbformat": 4,
 "nbformat_minor": 5
}
