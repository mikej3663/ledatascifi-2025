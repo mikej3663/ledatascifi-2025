{
 "cells": [
  {
   "cell_type": "markdown",
   "metadata": {},
   "source": [
    "# Libraries/Packages\n",
    "\n",
    "## Popular, nay, essential packages\n",
    "\n",
    "As the semester proceeds, you will surely need to learn (to some degree) the following packages. **For each, you might note the most common and useful functions, and copy common \"cookbook\" uses of the packages which you can paste into new programs.** (E.g. how to open a csv file.)\n",
    "\n",
    "_Note: I do not personally, nor do many programmers, commit to memory many functions of many packages. We simply **know what can be done** and when needed, we search (tab completion/google/stack overflow) for the command/recipe for that function._\n",
    "\n",
    "- Built-in packages:`os` `sys` `itertools` `re` `datetime` `csv`\n",
    "- Datasci packages (Anaconda installs these for you!), note the aliases here aren't strictly needed, but by convention, virtually everyone uses the shorter names\n",
    "    - `pandas as pd` (pd is a short alias for pandas)\n",
    "    - `seaborn as sns`\n",
    "    - `matplotlib as mpl`\n",
    "    - `statsmodels.api as sm` \n",
    "    - `matplotlib.pyplot as plt`\n",
    "    - `numpy as np`\n",
    "    - `sklearn`\n",
    "- Web crawling\n",
    "    - `requests`, `requests_html`, `urllib`\n",
    "    - `time` and `tdqm`\n",
    "    - `beautifulsoup4 as bs4` \n",
    "    - `html5lib`\n",
    "    - `selenium`"
   ]
  },
  {
   "cell_type": "markdown",
   "metadata": {},
   "source": [
    "## Installing libraries \n",
    "\n",
    "The Anaconda distribution we installed also installed most of the key data science Python libraries/packages we will use throughout the semester. In the event you need to install a new package to add functionality to Python, e.g. `seaborn` (which you already have!), you can \n",
    "\n",
    "1. Open Anaconda Prompt (Windows) or Terminal (Mac) or a code cell in Jupyter Lab \n",
    "1. `conda install seaborn` will install Seaborn\n",
    "    - If `conda install` doesn't work for a package, you can try to `pip install` it. E.g. `pip install seaborn`  \n",
    "\n",
    "Some packages can't be `pip` installed, but hopefully you won't need to deal with that this semester, so I'm going to skip discussion of such package installs. "
   ]
  }
 ],
 "metadata": {
  "kernelspec": {
   "display_name": "Python 3 (ipykernel)",
   "language": "python",
   "name": "python3"
  },
  "language_info": {
   "codemirror_mode": {
    "name": "ipython",
    "version": 3
   },
   "file_extension": ".py",
   "mimetype": "text/x-python",
   "name": "python",
   "nbconvert_exporter": "python",
   "pygments_lexer": "ipython3",
   "version": "3.8.13"
  }
 },
 "nbformat": 4,
 "nbformat_minor": 4
}
