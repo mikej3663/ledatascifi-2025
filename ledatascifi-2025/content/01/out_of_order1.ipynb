{
 "cells": [
  {
   "cell_type": "markdown",
   "id": "f0113509-1fe8-4bfb-90d6-f88c5f2ef43a",
   "metadata": {},
   "source": [
    "You should open this file in Jupyter Lab on your computer, not on the website! (The website won't show the code execution order.)\n",
    "\n",
    "If you do, you will see that the first block of code below has \"\\[3\\]\" next to it. \n",
    "\n",
    "That means that `a=2 // b=3` is the THIRD code cell that I've run in this file! Where is the first and second chunks of code that I ran? Who knows!\n",
    "\n",
    "And wait, \"\\[4\\]\" is missing! What's the fourth thing that was run? Who knows!\n",
    "\n",
    "The code below results in `b=7`. What will you get if you run this file from scratch? [Go here to find out.](out_of_order2)"
   ]
  },
  {
   "cell_type": "code",
   "execution_count": 3,
   "id": "4ce3b22a-08f5-4cb3-b393-ea743d61bb2a",
   "metadata": {},
   "outputs": [],
   "source": [
    "a=2\n",
    "b=3"
   ]
  },
  {
   "cell_type": "code",
   "execution_count": 5,
   "id": "30196a69-8384-4343-9ac8-4780c5ddea3b",
   "metadata": {},
   "outputs": [
    {
     "name": "stdout",
     "output_type": "stream",
     "text": [
      "7\n"
     ]
    }
   ],
   "source": [
    "b=b+a\n",
    "print(b)"
   ]
  }
 ],
 "metadata": {
  "kernelspec": {
   "display_name": "Python 3 (ipykernel)",
   "language": "python",
   "name": "python3"
  },
  "language_info": {
   "codemirror_mode": {
    "name": "ipython",
    "version": 3
   },
   "file_extension": ".py",
   "mimetype": "text/x-python",
   "name": "python",
   "nbconvert_exporter": "python",
   "pygments_lexer": "ipython3",
   "version": "3.8.12"
  }
 },
 "nbformat": 4,
 "nbformat_minor": 5
}
