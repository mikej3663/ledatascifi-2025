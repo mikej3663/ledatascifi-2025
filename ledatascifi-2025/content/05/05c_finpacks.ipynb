{
 "cells": [
  {
   "cell_type": "markdown",
   "metadata": {
    "editable": true,
    "slideshow": {
     "slide_type": ""
    },
    "tags": []
   },
   "source": [
    "# Supercharged resources/packages\n",
    "\n",
    "A compendium of great python packages you can use, now that you have the skills needed to access the info below.\n",
    "\n",
    "Please suggest others if you see something cool!\n"
   ]
  },
  {
   "cell_type": "markdown",
   "metadata": {},
   "source": [
    "Package | Description | Where\n",
    "--- | --- | ---\n",
    "streamlit, plotly, and shiny | Building interactive graphs, dashboards, and apps! | [streamlit](https://streamlit.io/gallery), [plotly](https://plotly.com/python/), [shiny](https://shiny.rstudio.com/py/)\n",
    "OpenBloomberg | 85% of a Bloomberg terminal for free, see the tweet below for a preview. | https://github.com/OpenBB-finance/OpenBBTerminal \n",
    "pandas-datareader | Import a ton of data | https://pydata.github.io/pandas-datareader/remote_data.html\n",
    "auto-sklearn |  Automated Machine Learning with scikit-learn  | https://github.com/automl/auto-sklearn\n",
    "Open Source Asset Pricing | Data for asset pricing tests and code to replicate or use. If you are interested in asset pricing or trading, this is a MUST visit. It's so cool that this is freely available, it blows my mind.  | https://www.openassetpricing.com/data/\n",
    "PyQL | QuantLib's Python port. | https://github.com/enthought/pyql\n",
    "QuantPy | A framework for quantitative finance In python. | https://github.com/jsmidt/QuantPy\n",
    "vollib | Calculating option prices, implied volatility, and greeks | https://github.com/vollib/vollib\n",
    "Finance-Python | Python tools for Finance | https://github.com/alpha-miner/Finance-Python\n",
    "ffn | A financial function library for Python. | https://github.com/pmorissette/ffn\n",
    "pynance | Lightweight Python library for assembling and analysing financial data. | https://github.com/GriffinAustin/pynance\n",
    "pysabr | SABR model Python implementation. | https://github.com/ynouri/pysabr\n",
    "FinancePy | Focuses on the pricing and risk-management of Financial Derivatives, including fixed-income, equity, FX and credit derivatives. | https://github.com/domokane/FinancePy\n",
    "gs-quant | Goldman-Sachs toolkit for quantitative finance | https://github.com/goldmansachs/gs-quant\n",
    "willowtree | Willow tree lattice for derivatives pricing. | https://github.com/federicomariamassari/willowtree\n",
    "financial-engineering | Applications of Monte Carlo methods to financial engineering projects | https://github.com/federicomariamassari/financial-engineering\n",
    " optlib | A library for financial options pricing written in Python. | https://github.com/dbrojas/optlib\n",
    "tf-quant-finance | High-performance TensorFlow library for quantitative finance. | https://github.com/google/tf-quant-finance\n",
    "Q-Fin | A Python library for mathematical finance. | https://github.com/RomanMichaelPaolucci/Q-Fin\n",
    "Quantsbin | Tools for pricing and plotting of vanilla option prices, greeks, and various other analysis around them. | https://github.com/quantsbin/Quantsbin\n",
    "finoptions | Complete python implementation of R package fOptions with partial implementation of fExoticOptions for pricing various options. | https://github.com/bbcho/finoptions-dev\n",
    "AssayingAnomolies | Quickly check if your signal generates alpha | https://sites.psu.edu/assayinganomalies/ \n",
    "usaddress and probablepeople | Parsing messy names (people, address, firms) | https://github.com/datamade?q=&type=all&language=&sort=stargazers\n",
    "SRAF | Textual analysis resources, designed for business text. | https://sraf.nd.edu/"
   ]
  },
  {
   "cell_type": "markdown",
   "metadata": {
    "editable": true,
    "slideshow": {
     "slide_type": ""
    },
    "tags": [
     "remove-input",
     "remove-output"
    ]
   },
   "source": [
    "---\n",
    "\n",
    "<p style=\"font-size:2em\"> Chat GPT and Generative AI </p> \n",
    "\n",
    "Chat GPT and other generative AI are at least, of course, fun novelties. Who doesn't love this:\n",
    "\n",
    "```{image} img/kingjames.jpg\n",
    ":alt: kingjames\n",
    ":width: 75%\n",
    ":align: center\n",
    "```\n",
    "\n",
    "Hilarious and silly!\n",
    "\n",
    "**But generative AI also have the potential to truly supercharge how work is done across many tasks and industries.**\n",
    "\n",
    "Developments in this area are happening so fast, what I write here will be outdated very soon, so I'll keep it brief here and spend more time on the topic during the semester. \n",
    "\n",
    "But _**as of November 2022**_, here are some thoughts on [OpenAI's ChatGPT](chat.openai.com):\n",
    "1. View it as having an infinite supply of interns with an 8th-grade IQ. Meaning:\n",
    "    - Low-cost way to brute force some tasks (brainstorming, rough drafts, outlining, editing, starting code)\n",
    "    - Its creativity has limits (bad at: \"write a shocking surprise that was foreshadowed earlier\")\n",
    "    - But it is an eager brainstormer ([in one standard creativity test, it beat 90% of humans](https://arxiv.org/ftp/arxiv/papers/2303/2303.12003.pdf))\n",
    "    - And it can be harnessed: \"write a rap about monetary supply in the style of Common\", \"draft a book proposal/sales copy/etc on topic X\", \"write a corporate memo addressing X, Y, and Z\", \"suggest 3 options for X\", \"provide more detail on the second point\"\n",
    "    - Responses are often vague and lack specifics\n",
    "1. Do not assume its output is correct or the truth\n",
    "    - Meaning: It will confidently lie and make up things (so-called \"hallucinations\" and \"bullshiting\")\n",
    "    - It's not all wrong though - see the note in the margin\n",
    "\n",
    "```{margin}\n",
    "Counterpoint: [@pythonprimes](https://twitter.com/pythonprimes/status/1601664776194912256) had ChatGPT take the\n",
    "- LSAT (result: 149)\n",
    "- bar exam (passed!)\n",
    "- MPRE legal ethics (60%)\n",
    "- Medical boards (70%)\n",
    "- NY high school English (91%) and Chem tests (78%)\n",
    "\n",
    "\"[Everyone is (correctly) worried](https://twitter.com/emollick/status/1601993380619513857) about the fact that AI gets stuff wrong, but it still gets enough right to pass the bar, our standard for how right HUMAN lawyers need to be.\"\n",
    "```\n",
    "\n",
    "Those points imply that ChatGPT is only useful and accurate when paired with\n",
    "- Your guidance (via iterative conversation)\n",
    "- Your subject matter expertise (to correct errors)\n",
    "\n",
    "Thus, ChatGPT does not look anything like a replacement for high-skill knowledge workers. **It is a complement to our workflow - I always have it open as a tab on my computer now.** \n",
    "\n",
    "There are many implications for this technology - mostly exciting! But it certainly looks like a world-changing tool. Examples:\n",
    "- Makes new business [formation/expansion easier and democratizes access ](https://oneusefulthing.substack.com/p/chatgtp-is-my-co-founder)\n",
    "    - Start-up time on (coding) projects will decline drastically \n",
    "    - Building websites and [prototyping production code rapidly](https://twitter.com/kinaumov/status/1600254852533088256)\n",
    "    - Makes outputs achievable for relative novices\n",
    "- Writing workflow will change dramatically \n",
    "    - Shift in emphasis to idea creation, editorial choices, truth checking\n",
    "    - Useful in many domains: journalism, memos, marketing, consulting, etc.\n",
    "    - Editing - overall writing quality should increase \n",
    "- The cost of BSing and cheating will fall \n",
    "    - Typed essays decline in favor of oral evaluations, handwritten essays\n",
    "    - Spam and fishing attempts will become much better"
   ]
  },
  {
   "cell_type": "markdown",
   "metadata": {
    "editable": true,
    "slideshow": {
     "slide_type": ""
    },
    "tags": []
   },
   "source": [
    "---\n",
    "\n",
    "<p style=\"font-size:2em\"> OpenBBTerminal </p> \n",
    "\n",
    "This Twitter thread has a nice preview of the OpenBBTerminal package, and you can find more in the official GitHub documentation."
   ]
  },
  {
   "cell_type": "code",
   "execution_count": 1,
   "metadata": {
    "tags": [
     "remove_input"
    ]
   },
   "outputs": [
    {
     "data": {
      "text/html": [
       "<blockquote class=\"twitter-tweet\"><p lang=\"en\" dir=\"ltr\">A Bloomberg subscription costs $24,000 per year.<br><br>But you can get nearly 85% of its features for free.<br><br>It&#39;s through an app called Open Bloomberg (aka OpenBB)<br><br>Here&#39;s how:<br><br>🧵</p>&mdash; Shravan Venkataraman 🔥🚀💰 (@theBuoyantMan) <a href=\"https://twitter.com/theBuoyantMan/status/1558792415263088641?ref_src=twsrc%5Etfw\">August 14, 2022</a></blockquote>\n",
       "<script async src=\"https://platform.twitter.com/widgets.js\" charset=\"utf-8\"></script>\n"
      ],
      "text/plain": [
       "<__main__.Tweet at 0x26aab845ca0>"
      ]
     },
     "execution_count": 1,
     "metadata": {},
     "output_type": "execute_result"
    }
   ],
   "source": [
    "import requests\n",
    "\n",
    "class Tweet(object):\n",
    "    def __init__(self, s, embed_str=False):\n",
    "        if not embed_str:\n",
    "            # Use Twitter's oEmbed API\n",
    "            # https://dev.twitter.com/web/embedded-tweets\n",
    "            api = 'https://publish.twitter.com/oembed?url={}'.format(s)\n",
    "            response = requests.get(api)\n",
    "            self.text = response.json()[\"html\"]\n",
    "        else:\n",
    "            self.text = s\n",
    "\n",
    "    def _repr_html_(self):\n",
    "        return self.text\n",
    "\n",
    "Tweet(\"https://twitter.com/thebuoyantman/status/1558792415263088641?s=27&t=BgGJLwO4zpRdwJkH90T5QA\")"
   ]
  }
 ],
 "metadata": {
  "kernelspec": {
   "display_name": "Python 3 (ipykernel)",
   "language": "python",
   "name": "python3"
  },
  "language_info": {
   "codemirror_mode": {
    "name": "ipython",
    "version": 3
   },
   "file_extension": ".py",
   "mimetype": "text/x-python",
   "name": "python",
   "nbconvert_exporter": "python",
   "pygments_lexer": "ipython3",
   "version": "3.11.5"
  }
 },
 "nbformat": 4,
 "nbformat_minor": 4
}
