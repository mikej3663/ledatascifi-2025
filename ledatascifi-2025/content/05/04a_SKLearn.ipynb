{
 "cells": [
  {
   "cell_type": "markdown",
   "metadata": {},
   "source": [
    "# Getting our hands dirty with ML\n",
    "\n",
    "The objective of this chapter is to put the principles from [the last chapter](03_ML) into practice. We will use `sklearn`, the go-to package for machine learning in python. Go ahead and just bookmark its [user guide right now](https://scikit-learn.org/stable/user_guide.html), you'll be visiting it a lot. \n",
    "\n",
    "At the end of this portion of class (between these pages and lectures),  you should be able to\n",
    "1. [Build a pipeline](04e_pipelines) that\n",
    "    1. [Preprocesses realistic data](04e_pipelines) (i.e. multiple variable types) in a pipeline that handles each variable type\n",
    "    1. [Estimates a model's performance using cross-validation](04d_crossval)\n",
    "    1. [Hypertunes the model's parameters](04f_optimizing_a_model)  to improve its performance\n",
    "    1. Finally, evaluate its performance on a test sample\n",
    "1. Use that pipeline within the [best practice workflow](04b_best_practices) to optimize several models and pick your preferred\n",
    "1. Discuss key issues relating to \n",
    "    1. The value of preprocessing\n",
    "    1. The value of feature engineering\n",
    "    1. How your hold-out split and folding method can cause unrealistic performance estimates \n",
    "\n"
   ]
  }
 ],
 "metadata": {
  "kernelspec": {
   "display_name": "Python 3",
   "language": "python",
   "name": "python3"
  },
  "language_info": {
   "codemirror_mode": {
    "name": "ipython",
    "version": 3
   },
   "file_extension": ".py",
   "mimetype": "text/x-python",
   "name": "python",
   "nbconvert_exporter": "python",
   "pygments_lexer": "ipython3",
   "version": "3.8.5"
  }
 },
 "nbformat": 4,
 "nbformat_minor": 4
}
