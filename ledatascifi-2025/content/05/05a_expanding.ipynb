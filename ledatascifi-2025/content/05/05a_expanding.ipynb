{
 "cells": [
  {
   "cell_type": "markdown",
   "metadata": {
    "editable": true,
    "slideshow": {
     "slide_type": ""
    },
    "tags": []
   },
   "source": [
    "# Expanding returns\n",
    "\n",
    "## The problem\n",
    "\n",
    "You know the charts that show cumulative returns if you'd bought and held a stock since some long ago date? Let's make one!\n",
    "\n",
    "This is called \"expanding returns\" because you get the total returns from day 0 to day N, then from day 0 to day N+1, and so on; the window is expanding instead of having a fixed number of units or containing a specific increment of time."
   ]
  },
  {
   "cell_type": "markdown",
   "metadata": {},
   "source": [
    "## Download the returns\n",
    "\n",
    "We need a dataset with firm, date, and the daily return. Let's build it:"
   ]
  },
  {
   "cell_type": "code",
   "execution_count": 1,
   "metadata": {},
   "outputs": [],
   "source": [
    "#!pip install pandas_datareader # uncomment and run this ONE TIME ONLY to install pandas data reader"
   ]
  },
  {
   "cell_type": "code",
   "execution_count": 2,
   "metadata": {
    "editable": true,
    "slideshow": {
     "slide_type": ""
    },
    "tags": []
   },
   "outputs": [],
   "source": [
    "import pandas as pd\n",
    "import numpy as np\n",
    "import pandas_datareader as pdr # you might need to install this (see above)\n",
    "from datetime import datetime\n",
    "import yfinance as yf\n",
    "\n",
    "# choose your firms and dates \n",
    "stocks = ['SBUX','AAPL','MSFT']\n",
    "start  = datetime(1980, 1, 1)\n",
    "end    = datetime(2022, 7, 31)"
   ]
  },
  {
   "cell_type": "markdown",
   "metadata": {},
   "source": [
    "```{tip}\n",
    "The code in the next block is explained more thoroughly in `handouts/factor_loading_simple.ipynb` in the textbook repo because that file prints the status of the data throughout. Looking at this might help.\n",
    "```"
   ]
  },
  {
   "cell_type": "code",
   "execution_count": 3,
   "metadata": {
    "editable": true,
    "slideshow": {
     "slide_type": ""
    },
    "tags": []
   },
   "outputs": [
    {
     "data": {
      "text/html": [
       "<div>\n",
       "<style scoped>\n",
       "    .dataframe tbody tr th:only-of-type {\n",
       "        vertical-align: middle;\n",
       "    }\n",
       "\n",
       "    .dataframe tbody tr th {\n",
       "        vertical-align: top;\n",
       "    }\n",
       "\n",
       "    .dataframe thead th {\n",
       "        text-align: right;\n",
       "    }\n",
       "</style>\n",
       "<table border=\"1\" class=\"dataframe\">\n",
       "  <thead>\n",
       "    <tr style=\"text-align: right;\">\n",
       "      <th></th>\n",
       "      <th>Firm</th>\n",
       "      <th>Date</th>\n",
       "      <th>Adj Close</th>\n",
       "      <th>ret</th>\n",
       "    </tr>\n",
       "  </thead>\n",
       "  <tbody>\n",
       "    <tr>\n",
       "      <th>0</th>\n",
       "      <td>AAPL</td>\n",
       "      <td>1980-12-12</td>\n",
       "      <td>0.100040</td>\n",
       "      <td>NaN</td>\n",
       "    </tr>\n",
       "    <tr>\n",
       "      <th>1</th>\n",
       "      <td>AAPL</td>\n",
       "      <td>1980-12-15</td>\n",
       "      <td>0.094820</td>\n",
       "      <td>-0.052171</td>\n",
       "    </tr>\n",
       "    <tr>\n",
       "      <th>2</th>\n",
       "      <td>AAPL</td>\n",
       "      <td>1980-12-16</td>\n",
       "      <td>0.087861</td>\n",
       "      <td>-0.073398</td>\n",
       "    </tr>\n",
       "    <tr>\n",
       "      <th>3</th>\n",
       "      <td>AAPL</td>\n",
       "      <td>1980-12-17</td>\n",
       "      <td>0.090035</td>\n",
       "      <td>0.024751</td>\n",
       "    </tr>\n",
       "    <tr>\n",
       "      <th>4</th>\n",
       "      <td>AAPL</td>\n",
       "      <td>1980-12-18</td>\n",
       "      <td>0.092646</td>\n",
       "      <td>0.028992</td>\n",
       "    </tr>\n",
       "    <tr>\n",
       "      <th>5</th>\n",
       "      <td>AAPL</td>\n",
       "      <td>1980-12-19</td>\n",
       "      <td>0.098300</td>\n",
       "      <td>0.061029</td>\n",
       "    </tr>\n",
       "    <tr>\n",
       "      <th>6</th>\n",
       "      <td>AAPL</td>\n",
       "      <td>1980-12-22</td>\n",
       "      <td>0.103084</td>\n",
       "      <td>0.048670</td>\n",
       "    </tr>\n",
       "    <tr>\n",
       "      <th>7</th>\n",
       "      <td>AAPL</td>\n",
       "      <td>1980-12-23</td>\n",
       "      <td>0.107434</td>\n",
       "      <td>0.042199</td>\n",
       "    </tr>\n",
       "    <tr>\n",
       "      <th>8</th>\n",
       "      <td>AAPL</td>\n",
       "      <td>1980-12-24</td>\n",
       "      <td>0.113088</td>\n",
       "      <td>0.052628</td>\n",
       "    </tr>\n",
       "    <tr>\n",
       "      <th>9</th>\n",
       "      <td>AAPL</td>\n",
       "      <td>1980-12-26</td>\n",
       "      <td>0.123527</td>\n",
       "      <td>0.092310</td>\n",
       "    </tr>\n",
       "    <tr>\n",
       "      <th>10</th>\n",
       "      <td>AAPL</td>\n",
       "      <td>1980-12-29</td>\n",
       "      <td>0.125267</td>\n",
       "      <td>0.014083</td>\n",
       "    </tr>\n",
       "    <tr>\n",
       "      <th>11</th>\n",
       "      <td>AAPL</td>\n",
       "      <td>1980-12-30</td>\n",
       "      <td>0.122222</td>\n",
       "      <td>-0.024304</td>\n",
       "    </tr>\n",
       "    <tr>\n",
       "      <th>12</th>\n",
       "      <td>AAPL</td>\n",
       "      <td>1980-12-31</td>\n",
       "      <td>0.118743</td>\n",
       "      <td>-0.028468</td>\n",
       "    </tr>\n",
       "    <tr>\n",
       "      <th>13</th>\n",
       "      <td>AAPL</td>\n",
       "      <td>1981-01-02</td>\n",
       "      <td>0.120048</td>\n",
       "      <td>0.010988</td>\n",
       "    </tr>\n",
       "    <tr>\n",
       "      <th>14</th>\n",
       "      <td>AAPL</td>\n",
       "      <td>1981-01-05</td>\n",
       "      <td>0.117438</td>\n",
       "      <td>-0.021738</td>\n",
       "    </tr>\n",
       "  </tbody>\n",
       "</table>\n",
       "</div>"
      ],
      "text/plain": [
       "    Firm       Date  Adj Close       ret\n",
       "0   AAPL 1980-12-12   0.100040       NaN\n",
       "1   AAPL 1980-12-15   0.094820 -0.052171\n",
       "2   AAPL 1980-12-16   0.087861 -0.073398\n",
       "3   AAPL 1980-12-17   0.090035  0.024751\n",
       "4   AAPL 1980-12-18   0.092646  0.028992\n",
       "5   AAPL 1980-12-19   0.098300  0.061029\n",
       "6   AAPL 1980-12-22   0.103084  0.048670\n",
       "7   AAPL 1980-12-23   0.107434  0.042199\n",
       "8   AAPL 1980-12-24   0.113088  0.052628\n",
       "9   AAPL 1980-12-26   0.123527  0.092310\n",
       "10  AAPL 1980-12-29   0.125267  0.014083\n",
       "11  AAPL 1980-12-30   0.122222 -0.024304\n",
       "12  AAPL 1980-12-31   0.118743 -0.028468\n",
       "13  AAPL 1981-01-02   0.120048  0.010988\n",
       "14  AAPL 1981-01-05   0.117438 -0.021738"
      ]
     },
     "execution_count": 3,
     "metadata": {},
     "output_type": "execute_result"
    }
   ],
   "source": [
    "# download stock prices \n",
    "# here, from yahoo: not my fav source, but quick. \n",
    "# we need to do some data manipulation to get the data ready \n",
    "stock_prices         = yf.download(stocks, start , end)\n",
    "stock_prices.index   = stock_prices.index.tz_localize(None)      # change yf date format to match pdr\n",
    "stock_prices         = stock_prices.filter(like='Adj Close')     # reduce to just columns with this in the name\n",
    "stock_prices.columns = stock_prices.columns.get_level_values(1)  # tickers as col names, works no matter order of tics\n",
    "\n",
    "# refmt from wide to long\n",
    "stock_prices = stock_prices.stack().swaplevel().sort_index().reset_index()\n",
    "stock_prices.columns = ['Firm','Date','Adj Close']\n",
    "\n",
    "# add return var = pct_change() function compares to prior row\n",
    "# EXCEPT: don't compare for first row of one firm with last row of prior firm!\n",
    "# MAKE SURE YOU CREATE THE VARIABLES WITHIN EACH FIRM - use groupby\n",
    "stock_prices['ret'] = stock_prices.groupby('Firm')['Adj Close'].pct_change()\n",
    "stock_prices['ret'] = stock_prices['ret'] \n",
    "stock_prices.head(15)"
   ]
  },
  {
   "cell_type": "markdown",
   "metadata": {},
   "source": [
    "## Getting the expanding returns\n",
    "\n",
    "Notice that this dataset has the simple return for a period, not the gross returns (defined [here](05a_compounding)). \n",
    "\n",
    "To compute $R_i[0,T]$ for all firms $i$ and each time $T$ in the dataset, you're going to need to use groupby. You have two equivalent options from there: \n",
    "\n",
    "1. For each firm, get the `cumprod()` of the gross return over its time series.\n",
    "    ```python\n",
    "    df.assign(R=1+df['r']).groupby('firm')['R'].cumprod()\n",
    "    ```\n",
    "1. For each firm, take the product of $1+r$ for all prior periods using the expanding window functionality.\n",
    "    ```python\n",
    "    df.groupby('firm')['r'].expanding().apply(lambda x: np.prod(1+x))\n",
    "    ```\n",
    "\n",
    "Which you choose is up to you, but in my testing, the `cumprod` approach is 2.5x faster. "
   ]
  },
  {
   "cell_type": "code",
   "execution_count": 4,
   "metadata": {},
   "outputs": [],
   "source": [
    "stock_prices['cumret'] = \\\n",
    "(\n",
    "    stock_prices\n",
    "    .assign(ret=1+stock_prices['ret'])\n",
    "    .groupby('Firm')\n",
    "    ['ret']\n",
    "    .cumprod()\n",
    ")"
   ]
  },
  {
   "cell_type": "markdown",
   "metadata": {},
   "source": [
    "## Plotting the total returns\n",
    "\n",
    "If only we [could turn back time. ](https://www.youtube.com/watch?v=9n3A_-HRFfc)"
   ]
  },
  {
   "cell_type": "code",
   "execution_count": 5,
   "metadata": {},
   "outputs": [
    {
     "data": {
      "image/png": "[encoded data removed]",
      "text/plain": [
       "<Figure size 432x360 with 1 Axes>"
      ]
     },
     "metadata": {
      "needs_background": "light"
     },
     "output_type": "display_data"
    }
   ],
   "source": [
    "(stock_prices.set_index('Date').groupby('Firm')['cumret']\n",
    " .plot(title=\"If you bought $1 back when, you'd have this now\",\n",
    "       figsize=(6,5))\n",
    ");"
   ]
  }
 ],
 "metadata": {
  "kernelspec": {
   "display_name": "Python 3 (ipykernel)",
   "language": "python",
   "name": "python3"
  },
  "language_info": {
   "codemirror_mode": {
    "name": "ipython",
    "version": 3
   },
   "file_extension": ".py",
   "mimetype": "text/x-python",
   "name": "python",
   "nbconvert_exporter": "python",
   "pygments_lexer": "ipython3",
   "version": "3.11.5"
  }
 },
 "nbformat": 4,
 "nbformat_minor": 4
}
