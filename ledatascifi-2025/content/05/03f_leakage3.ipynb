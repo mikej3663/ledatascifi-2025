{
 "cells": [
  {
   "cell_type": "markdown",
   "id": "ebe7ddb7-4866-4e7f-a6aa-97c19ad31260",
   "metadata": {
    "editable": true,
    "slideshow": {
     "slide_type": ""
    },
    "tags": []
   },
   "source": [
    "# Data Leakage - Illustration 2\n",
    "\n",
    "You might be thinking \"But, that last page seems contrived.\"\n",
    "\n",
    "It isn't. \n",
    "\n",
    "Read the attached article (it's short!) [online here](https://www.wired.com/story/machine-learning-reproducibility-crisis/) or the [pdf here](https://github.com/LeDataSciFi/ledatascifi-2025/blob/main/handouts/wired_leakage.pdf). Ask yourself:\n",
    "- What does the article imply about the value of ML?\n",
    "- What is the implication for how you react to new ML developments?\n",
    "- How does the experience of others impact what you think we should learn next?\n"
   ]
  },
  {
   "cell_type": "code",
   "execution_count": 1,
   "id": "d4062f79-0eb6-413b-ba94-e4e8c06236f7",
   "metadata": {
    "tags": [
     "remove_input"
    ]
   },
   "outputs": [
    {
     "data": {
      "text/html": [
       "<blockquote class=\"twitter-tweet\"><p lang=\"en\" dir=\"ltr\">Sometimes machine learning *dramatically improves*  predictive accuracy - performing much better than simple regression models<br><br>Turns out, those cases are all errors<br><br>Here&#39;s the mistake they are making... (1/3)<a href=\"https://t.co/fSETMYH6tj\">https://t.co/fSETMYH6tj</a></p>&mdash; Cristobal Young (@cristobalyoung5) <a href=\"https://twitter.com/cristobalyoung5/status/1557665261695643649?ref_src=twsrc%5Etfw\">August 11, 2022</a></blockquote>\n",
       "<script async src=\"https://platform.twitter.com/widgets.js\" charset=\"utf-8\"></script>\n"
      ],
      "text/plain": [
       "<__main__.Tweet at 0x22ccd9a59a0>"
      ]
     },
     "execution_count": 1,
     "metadata": {},
     "output_type": "execute_result"
    }
   ],
   "source": [
    "import requests\n",
    "\n",
    "class Tweet(object):\n",
    "    def __init__(self, s, embed_str=False):\n",
    "        if not embed_str:\n",
    "            # Use Twitter's oEmbed API\n",
    "            # https://dev.twitter.com/web/embedded-tweets\n",
    "            api = 'https://publish.twitter.com/oembed?url={}'.format(s)\n",
    "            response = requests.get(api)\n",
    "            self.text = response.json()[\"html\"]\n",
    "        else:\n",
    "            self.text = s\n",
    "\n",
    "    def _repr_html_(self):\n",
    "        return self.text\n",
    "\n",
    "Tweet(\"https://twitter.com/cristobalyoung5/status/1557665261695643649\")"
   ]
  }
 ],
 "metadata": {
  "kernelspec": {
   "display_name": "Python 3 (ipykernel)",
   "language": "python",
   "name": "python3"
  },
  "language_info": {
   "codemirror_mode": {
    "name": "ipython",
    "version": 3
   },
   "file_extension": ".py",
   "mimetype": "text/x-python",
   "name": "python",
   "nbconvert_exporter": "python",
   "pygments_lexer": "ipython3",
   "version": "3.11.5"
  }
 },
 "nbformat": 4,
 "nbformat_minor": 5
}
