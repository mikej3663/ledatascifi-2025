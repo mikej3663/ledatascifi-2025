{
 "cells": [
  {
   "cell_type": "markdown",
   "metadata": {
    "editable": true,
    "slideshow": {
     "slide_type": ""
    },
    "tags": []
   },
   "source": [
    "# Data Leakage - Illustration"
   ]
  },
  {
   "cell_type": "markdown",
   "metadata": {},
   "source": [
    "\n",
    "```{important}\n",
    "Data leakage is one of the cardinal sins of ML.\n",
    "```\n",
    "\n",
    "---\n",
    "\n",
    "The following catastrophe is brought to you by Data Leakage (TM), the \\#1 enemy of machine learners everywhere, recommended by 0 out of 10 dentists, and also, our sponsor Daisy Cottage Cheese:\n",
    "\n",
    "<iframe width=\"560\" height=\"315\" src=\"https://www.youtube.com/embed/mjWKddZ5vko\" title=\"YouTube video player\" frameborder=\"0\" allow=\"accelerometer; autoplay; clipboard-write; encrypted-media; gyroscope; picture-in-picture\" allowfullscreen></iframe>\n",
    "\n",
    "_(I'm sorry for putting that jingle in your head, so so sorry.)_\n",
    "\n",
    "```{note}\n",
    "The code below might need to be modified to work as of Feb 2023. [The fix is here.](https://github.com/LeDataSciFi/ledatascifi-2025/issues/6)\n",
    "```\n",
    "\n",
    "---\n",
    "      \n",
    "      \n",
    "<ul class=\"screenbox\">\n",
    "<li class=\"sceneheader\">INT. DUNGY BASEMENT COMPUTER LAB</li>\n",
    "<li class=\"action\">We open as a light casts a glow over the face of a sweating programmer. A crushed  (finished) Red Bull is the only thing on the desk visible, besides 8,000 pieces of scrap paper. In the corner of a frame, a portion of a white board is visible - permanent smudges show that is has been heavily used.    \n",
    "</li>\n",
    "<li class=\"character\">(Unnamed programmer)</li>\n",
    "<li class=\"dialogue\">I have a plan. You and me, let's get rich! Who needs this grind?</li>\n",
    "<li class=\"action\">He fidgets. The red bull has him a little fritzy. He's talking to someone just off screen.</li>\n",
    "<li class=\"character\">(Unnamed programmer)</li>\n",
    "<li class=\"dialogue\">Seriously! I'm super good at coding, you stake me, and I'll build a stock prediction algo with fancy ML tools. I know all the super cool and trendy words that \"Wow!\" investors, so we'll probably get backers too!   </li>\n",
    "<li class=\"action\">His eyes search wantingly for any feedback from the unseen narrator. (TM-Christopher Nolan) </li>\n",
    "<li class=\"character\">(Unnamed programmer)</li>\n",
    "<li class=\"dialogue\">Here, let me show you. I'll use a model to predict daily returns for Microsoft. After downloading the data, we can use this fancy model:  </li>\n",
    "<li class=\"action\">He swivels his chair towards the computer. </li>\n",
    "<li class=\"transition \">\"Dramatic revealation\" music, camera pans and zooms onto the computer screen </li>\n",
    "\n",
    "</ul>\n",
    "      \n"
   ]
  },
  {
   "cell_type": "code",
   "execution_count": 1,
   "metadata": {
    "editable": true,
    "slideshow": {
     "slide_type": ""
    },
    "tags": [
     "hide-input"
    ]
   },
   "outputs": [],
   "source": [
    "import pandas_datareader as pdr  # to install: !pip install pandas_datareader\n",
    "import yfinance as yf\n",
    "from datetime import datetime\n",
    "from sklearn.metrics import r2_score\n",
    "from statsmodels.tsa.arima.model import ARIMA\n",
    "import numpy as np\n",
    "from tqdm import trange\n",
    "import warnings # suppress arima loop warning with these next 3 lines\n",
    "from statsmodels.tools.sm_exceptions import ConvergenceWarning\n",
    "warnings.simplefilter('ignore', ConvergenceWarning)\n",
    "\n",
    "# load stock returns \n",
    "start = datetime(2004, 1, 1)\n",
    "end = datetime(2007, 12, 31)\n",
    "stocks = ['MSFT']\n",
    "stock_prices         = yf.download(stocks, start , end)\n",
    "stock_prices.index   = stock_prices.index.tz_localize(None)      # change yf date format to match pdr\n",
    "stock_prices         = stock_prices.filter(like='Adj Close')     # reduce to just columns with this in the name\n",
    "if len(stocks) > 1: # this next line fails if len=1 bc yahoo gives back data with diff structure\n",
    "    stock_prices.columns = stock_prices.columns.get_level_values(1)  # tickers as col names, works no matter order of tics\n",
    "else:\n",
    "    stock_prices.columns = stocks \n",
    "stock_prices = stock_prices.stack().swaplevel().sort_index().reset_index()\n",
    "stock_prices.columns = ['Firm','Date','Adj Close']\n",
    "stock_prices['ret'] = stock_prices.groupby('Firm')['Adj Close'].pct_change()\n",
    "stock_prices = stock_prices.iloc[1:,:]\n",
    "\n",
    "# fit model and evaluate it to see the predictive power\n",
    "\n",
    "series = stock_prices.ret\n",
    "series.index = stock_prices.Date#.to_period('D')\n",
    "series.index = series.index.to_period('D')"
   ]
  },
  {
   "cell_type": "code",
   "execution_count": 2,
   "metadata": {},
   "outputs": [],
   "source": [
    "model = ARIMA(series, order=(4,0,1))\n",
    "model_fit = model.fit()\n",
    "predictions = model_fit.predict(start='2006-01-03')"
   ]
  },
  {
   "cell_type": "markdown",
   "metadata": {},
   "source": [
    "<ul class=\"screenbox\">\n",
    "<li class=\"character\">(Unnamed programmer)</li>\n",
    "<li class=\"dialogue\">It's done! Heck yes! Our patent pending* ARIMA(3,0,1) model predicts next day stock returns with an R2 of...</li>\n",
    "<li class=\"transition\"> Cut to the screen </li>\n",
    "</ul>"
   ]
  },
  {
   "cell_type": "code",
   "execution_count": 3,
   "metadata": {
    "tags": [
     "hide-input"
    ]
   },
   "outputs": [
    {
     "name": "stdout",
     "output_type": "stream",
     "text": [
      "R2=0.013!\n"
     ]
    }
   ],
   "source": [
    "print(f'R2={r2_score(series[-len(predictions):],predictions).round(3)}!')"
   ]
  },
  {
   "cell_type": "markdown",
   "metadata": {},
   "source": [
    "<ul class=\"screenbox\">\n",
    "<li class=\"action\">He gets frenetically excited.</li>\n",
    "<li class=\"character\">(Unnamed programmer)</li>\n",
    "<li class=\"dialogue\">Let's start trading! I have my life's savings. We can use the heirlooms your Grandma Fama left you as collateral and lever up for extra earnings! She would understand. In fact, she would be PROUD to contribute to the <b>cause</b>!</li>\n",
    "<li class=\"transition\"> Screen dialogue box: Jan 3, 2006, 5pm. </li>\n",
    "<li class=\"character\">(Unnamed programmer)</li>\n",
    "<li class=\"dialogue\"> Ok, let's see what the model says is going to happen tomorrow, and we'll buy or sell based on that...</li>\n",
    "<li class=\"transition\"> Screen dialogue box: Jan 4, 2006, 5pm. </li>\n",
    "<li class=\"character\">(Unnamed programmer)</li>\n",
    "<li class=\"dialogue\"> Ok, let's see what the model says is going to happen tomorrow, and we'll buy or sell based on that...</li>\n",
    "<li class=\"transition\"> Montage begins, Rolling Stones plays over it. </li>\n",
    "<li class=\"action\">Montage basically follows Wolf of Wall Street.</li>\n",
    "<li class=\"transition\"> Screen dialogue box: Dec 31, 2007, 5pm. </li>\n",
    "<li class=\"action\">Our programmer sits at his computer. He hasn't slept in days. He is disheveled and has coffee stains on his shirt. Unsigned divorce papers are on the desk. He looks at the screen.</li>\n",
    "<li class=\"character\">(Unnamed programmer)</li>\n",
    "<li class=\"dialogue\"> Crap. </li>\n",
    "<li class=\"transition\"> Pan and zoom in on the computer screen, revealing how their model performed in the real world. </li>\n",
    "</ul>"
   ]
  },
  {
   "cell_type": "code",
   "execution_count": 4,
   "metadata": {
    "tags": [
     "hide-input"
    ]
   },
   "outputs": [
    {
     "name": "stdout",
     "output_type": "stream",
     "text": [
      "R2=-0.196\n"
     ]
    }
   ],
   "source": [
    "history   = series[:-len(predictions)]\n",
    "test_data = series[-len(predictions):]\n",
    "model_predictions = []\n",
    "for time_point in range(len(test_data)):\n",
    "    model = ARIMA(history, order=(4,1,0)) # use model on past\n",
    "    model_fit = model.fit()               # predict the future\n",
    "    model_predictions.append(model_fit.forecast()[0])  # store prediction\n",
    "    history = np.append(history,test_data[time_point]) # and reality\n",
    "    \n",
    "print(f'R2={r2_score(test_data,model_predictions).round(3)}')"
   ]
  },
  {
   "cell_type": "markdown",
   "metadata": {},
   "source": [
    "<ul class=\"screenbox\">\n",
    "<li class=\"action\">His eyes widen in horror as he begins to comprehend the magnitude of the disaster. He gulps and then turns</li>\n",
    "<li class=\"character\">(Unnamed programmer)</li>\n",
    "<li class=\"dialogue\">I'm sorry. I hope your grandma doesn't know about this, wherever she is.</li>\n",
    "<li class=\"transition\"> Smash cut to a graveyard, at night. It's dark. The tombstone says \"Eugenia Fama\". Suddenly a skeleton of a hand bursts out of the ground! </li>\n",
    "<li class=\"transition \">QUICK FADE TO BLACK </li>\n",
    "<li class=\"transition \">IMMIGRANT SONG BY LED ZEPPELIN PLAYS OVER CREDITS </li>\n",
    "</ul>\n",
    "\n",
    "<iframe width=\"560\" height=\"315\" src=\"https://www.youtube.com/embed/y8OtzJtp-EM\" title=\"YouTube video player\" frameborder=\"0\" text-align=\"center\" allow=\"accelerometer; autoplay; clipboard-write; encrypted-media; gyroscope; picture-in-picture\" allowfullscreen></iframe>"
   ]
  }
 ],
 "metadata": {
  "kernelspec": {
   "display_name": "Python 3 (ipykernel)",
   "language": "python",
   "name": "python3"
  },
  "language_info": {
   "codemirror_mode": {
    "name": "ipython",
    "version": 3
   },
   "file_extension": ".py",
   "mimetype": "text/x-python",
   "name": "python",
   "nbconvert_exporter": "python",
   "pygments_lexer": "ipython3",
   "version": "3.11.5"
  }
 },
 "nbformat": 4,
 "nbformat_minor": 4
}
