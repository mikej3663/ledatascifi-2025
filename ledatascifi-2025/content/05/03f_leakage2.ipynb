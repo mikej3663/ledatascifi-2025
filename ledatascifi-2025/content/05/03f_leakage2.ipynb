{
 "cells": [
  {
   "cell_type": "markdown",
   "metadata": {
    "editable": true,
    "slideshow": {
     "slide_type": ""
    },
    "tags": []
   },
   "source": [
    "# Data Leakage Defined"
   ]
  },
  {
   "cell_type": "markdown",
   "metadata": {},
   "source": [
    "[Data leakage](https://scikit-learn.org/stable/common_pitfalls.html#data-leakage) \n",
    "\n",
    "> **is when information that would not be available at prediction time is used when building the model.** This results in overly optimistic performance estimates, for example from cross-validation, and thus poorer performance when the model is used on actually novel data, for example during production.\n",
    "\n",
    "```{admonition} Lessons:\n",
    ":class: tip\n",
    "1. Keep the [test and train data subsets separate](03_ML)\n",
    "1. Never call fit on the test data\n",
    "1. Data cleaning and transformation steps applied to the training data should not be learned from the test data\n",
    "1. Have a baseline so you can use the smell test (see below) \n",
    "```\n",
    "\n",
    "The example on the last page falls prey to data leakage because the training data was the testing data. The model \"had the answers to the test\" already!\n",
    "\n",
    "[The next pages](03c_ModelEval) of the book discuss the _main_ (but not only) method to avoid data leakage and the [following chapter](04a_SKLearn) will explain how _with code_, but for now, let's just state the following warning:\n"
   ]
  },
  {
   "cell_type": "markdown",
   "metadata": {},
   "source": [
    "```{warning}\n",
    "The absolute golden rule of prediction modeling is...\n",
    "\n",
    "**YOUR MODEL CAN'T HAVE ACCESS TO ANY DATA THAT IT WOULDN'T HAVE IN PRACTICE WHEN IT MAKES THE PREDICTION.**\n",
    "```\n",
    "\n",
    "I know I already said that, and repetition is usually bad writing, but it must be said again. And again.\n",
    "\n",
    "That said, knowing that data leakage is bad doesn't mean it's easy to avoid.  \n",
    "\n",
    "Data leakage can sneak into your analysis in tricky ways:\n",
    "- The outcome variable is a predictor (implicitly or explicitly)\n",
    "- Predictor variables that are in response to the result (after the fact) or the possibility (anticipatory)\n",
    "- Predicting loan default, the data might include employee IDs for recent customer service contacts. But the most recent contact might be with trouble-loan specialists (because the firm anticipated possible default due to some other signal). Using that employee's customer contacts to predict default would add no value - the lender already knew to assign that employee!\n",
    "\n",
    "```{admonition} Establish a baseline + Use the smell test!\n",
    ":class: tip\n",
    "\n",
    "Is it too good to be true? One way to tell is to establish a baseline: Find best-in-class performance metrics for your problem. If you see dramatically better results, data leakage is a good candidate for the performance. \n",
    "\n",
    "For example: Predicting stock prices is hard! The best predictive R2 for individual stocks [in this paper](https://academic.oup.com/rfs/article/33/5/2223/5758276) (open access [here](https://dachxiu.chicagobooth.edu/download/ML.pdf)) is just 1.80% per month. An R2 of 0.018 is WORLD CLASS. \n",
    "\n",
    "Knowing that, if someone tells you they can predict asset returns with an R2 of 2%+, you should be very skeptical.\n",
    "\n",
    "If you can't find a baseline from prior work, create a \"dummy\" model to beat. For example: Predict that returns are always 0, or always 8% a year. What's the R2 on that?\n",
    "```\n",
    "\n"
   ]
  }
 ],
 "metadata": {
  "kernelspec": {
   "display_name": "Python 3 (ipykernel)",
   "language": "python",
   "name": "python3"
  },
  "language_info": {
   "codemirror_mode": {
    "name": "ipython",
    "version": 3
   },
   "file_extension": ".py",
   "mimetype": "text/x-python",
   "name": "python",
   "nbconvert_exporter": "python",
   "pygments_lexer": "ipython3",
   "version": "3.11.5"
  }
 },
 "nbformat": 4,
 "nbformat_minor": 4
}
