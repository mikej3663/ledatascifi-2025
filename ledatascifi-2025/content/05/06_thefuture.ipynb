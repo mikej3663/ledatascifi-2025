{
 "cells": [
  {
   "cell_type": "markdown",
   "metadata": {},
   "source": [
    "# The Future\n",
    "\n",
    "```{admonition} What's next?\n",
    ":class: tip\n",
    "1. **Important!** [Save your coursework to your computer. Your assignment repos on github will be deleted soon.](06a_saving)\n",
    "1. [You will be added to the secret discussion board for class alumni.](https://github.com/orgs/LeDataSciFi/teams/alumni)\n",
    "    - The idea is that employers ask faculty in the department where the best finance students are that know python, and that's you. \n",
    "    - The alumni board makes it easy for me to share these opportunities. \n",
    "    - You're welcome to post in the group to let each other know about opportunities at your current organizations when you need to find good people.\n",
    "1. [Update your GitHub email to use a non-Lehigh address.](https://github.com/settings/emails) (Lehigh deletes your email after graduation.)\n",
    "1. I added some bonus content after this page:\n",
    "    - [Some cool projects you can try next.](06b_nextsteps) Working on interest-driven projects is the best model for skill growth and often results in work that gets attention.\n",
    "    - [If you haven't, check out the great finance packages to explore, use, and learn from last chapter.](05c_finpacks)\n",
    "    - [Some resources for job hunts, grad school, and more.](../about/resources)\n",
    "```\n",
    "\n",
    "I hope you've enjoyed the class and learned a bunch! This class is only an introduction to what can be done; clearly, there are galaxies of material on data science broadly and its possible applications to solve important (finance-related) problems. But you have the starting toolkit to explore that galaxy of possibility now.\n",
    "\n",
    "**My sincere hope is that this class has opened up some doors for you**, whether you end up developing code to solve a problem for your company or end up managing a group of devs that are doing the coding. \n",
    "\n",
    "**I wish you all the best in the future and look forward to hearing about all the great things you do. Go forth, Mountain Hawks!**\n",
    "\n",
    "Thinking both about you-and-data-science, and you-and-me...\n",
    "\n",
    "![](https://media.giphy.com/media/f41oBFWHe3uro7Inqr/giphy.gif) "
   ]
  }
 ],
 "metadata": {
  "kernelspec": {
   "display_name": "Python 3 (ipykernel)",
   "language": "python",
   "name": "python3"
  },
  "language_info": {
   "codemirror_mode": {
    "name": "ipython",
    "version": 3
   },
   "file_extension": ".py",
   "mimetype": "text/x-python",
   "name": "python",
   "nbconvert_exporter": "python",
   "pygments_lexer": "ipython3",
   "version": "3.8.13"
  }
 },
 "nbformat": 4,
 "nbformat_minor": 4
}
