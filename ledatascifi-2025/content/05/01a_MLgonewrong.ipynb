{
 "cells": [
  {
   "cell_type": "markdown",
   "metadata": {},
   "source": [
    "# ML Gone Wrong\n",
    "\n",
    "```{admonition} But just because you can, doesn't mean you should. \n",
    ":class: warning\n",
    "<img src=https://media.giphy.com/media/mCClSS6xbi8us/source.gif >\n",
    "\n",
    "```\n",
    "\n",
    "```{note}\n",
    "Notice the company names below! These are the creme de la creme of tech firms!\n",
    "```\n",
    "\n",
    "- ML/AI methods replicate patterns in the data by design \n",
    "    - [If you give it data with human biases, then the AI can easily become biased.](https://arxiv.org/pdf/1608.07187.pdf) This has led to debates about how to use ML (example - [ML algos fail to set cash bail without bias](https://www.wired.com/story/algorithms-supposed-fix-bail-system-they-havent/))\n",
    "    - Amazon's engineers used ML to evaluate applicants but taught the model [that males were automatically better](https://www.theguardian.com/technology/2018/oct/10/amazon-hiring-ai-gender-bias-recruiting-engine)\n",
    "    - Criminal sentencing [based on \"risk predictions\"](https://www.propublica.org/article/machine-bias-risk-assessments-in-criminal-sentencing) overweight race\n",
    "    - [Online advertising](https://arxiv.org/abs/1301.6822) - Google is more likely to serve up arrest records in searches for names assigned \"primarily to black babies\"\n",
    "    - [Medical treatments vary by race](https://www.wired.com/story/how-algorithm-favored-whites-over-blacks-health-care/)\n",
    "- Humans are strategic and will exploit incentives created by algos and exploit the algo itself\n",
    "    - Facebook's targeted ad categories initially allowed hate groups to form \n",
    "    - Microsoft's chat bot was hijacked by 4chan users to teach the bot hate speech\n",
    "    - Uber must consider how changes to its dispatch algorithm will alter driver behavior\n",
    "- ML/AI tools are not always the right tool \n",
    "    - Zillow's pricing model was best-in-class but [still lost nearly 400m in a single quarter!](https://donbowen.github.io/slides/slides/L01_intro_github.slides.html) \n",
    "- [Data leakage is common](03f_leakage3) and can lead to false \"discoveries\" of impossible performance gains\n",
    "- Some problems are simply hard\n",
    "    - Predicting stock returns is hard! The best predictive R2 for individual stocks [in this paper](https://academic.oup.com/rfs/article/33/5/2223/5758276) (open access [here](https://dachxiu.chicagobooth.edu/download/ML.pdf)) is just 1.80% per month.\n",
    "    - IBM's Watson tried to predict cancer. How'd it go? According to internal documents: \"This product is a piece of sh–.\"\n",
    "    - [Google Flu Trends](https://gking.harvard.edu/files/gking/files/0314policyforumff.pdf) consistently over-predicted flu prevalence\n",
    "\n",
    "\n"
   ]
  }
 ],
 "metadata": {
  "celltoolbar": "Tags",
  "kernelspec": {
   "display_name": "Python 3 (ipykernel)",
   "language": "python",
   "name": "python3"
  },
  "language_info": {
   "codemirror_mode": {
    "name": "ipython",
    "version": 3
   },
   "file_extension": ".py",
   "mimetype": "text/x-python",
   "name": "python",
   "nbconvert_exporter": "python",
   "pygments_lexer": "ipython3",
   "version": "3.8.13"
  }
 },
 "nbformat": 4,
 "nbformat_minor": 4
}
