{
 "cells": [
  {
   "cell_type": "markdown",
   "metadata": {},
   "source": [
    "# Optimizing a Model\n",
    "\n",
    "This page covers:\n",
    "- `<pipeline>.get_params()` to find parameters in your pipeline to optimize\n",
    "- Setting up and fitting `GridSearchCV()` to find optimal parameters\n",
    "- Getting the best model after the grid search via `.best_estimator_` \n",
    "\n",
    "```{admonition}\n",
    ":class: seealso\n",
    "The [sk-learn](https://scikit-learn.org/stable/modules/grid_search.html#grid-search) docs on hypertuning. \n",
    "```\n",
    "\n",
    "Let's load the data [we've been using.](04e_pipelines) (The code is here but hidden.)"
   ]
  },
  {
   "cell_type": "code",
   "execution_count": 1,
   "metadata": {
    "tags": [
     "hide-input"
    ]
   },
   "outputs": [],
   "source": [
    "import pandas as pd\n",
    "import numpy as np\n",
    "from sklearn.linear_model import Ridge\n",
    "from sklearn.model_selection import train_test_split, GridSearchCV\n",
    "from sklearn.pipeline import make_pipeline \n",
    "from sklearn.impute import SimpleImputer\n",
    "from sklearn.compose import ColumnTransformer, make_column_selector\n",
    "from sklearn.preprocessing import OneHotEncoder\n",
    "from sklearn.metrics import r2_score\n",
    "\n",
    "from sklearn import set_config\n",
    "set_config(display=\"diagram\")  # display='text' is the default\n"
   ]
  },
  {
   "cell_type": "code",
   "execution_count": 2,
   "metadata": {
    "tags": [
     "hide-input"
    ]
   },
   "outputs": [],
   "source": [
    "url        = 'https://github.com/LeDataSciFi/data/blob/main/Fannie%20Mae/Fannie_Mae_Plus_Data.gzip?raw=true'\n",
    "fannie_mae = pd.read_csv(url,compression='gzip').dropna()\n",
    "y          = fannie_mae.Original_Interest_Rate\n",
    "\n",
    "# reduce to a different set of vars than the prior pages the slow way\n",
    "drop = ['Loan_Identifier','Loan_purpose','Origination_Channel', 'Seller_Name', 'Property_type', 'Occupancy_type',\n",
    "       'Zip_code_short','Product_type','Co-borrower_credit_score_at_origination', 'Mortgage_Insurance_type',\n",
    "       'Origination_Date', 'First_payment_date','Original_Interest_Rate','UNRATE', 'CPIAUCSL', 'Qdate', 'rGDP', 'TCMR', 'POILWTIUSDM', 'TTLCONS',\n",
    "       'DEXUSEU', 'BOPGSTB', 'GOLDAMGBD228NLBM', 'CSUSHPISA', 'MSPUS',]\n",
    "fannie_mae = fannie_mae.drop(drop,axis=1)\n",
    "fannie_mae = (fannie_mae\n",
    "              .assign(l_credscore = np.log(fannie_mae['Borrower_Credit_Score_at_Origination']),\n",
    "                      l_LTV = np.log(fannie_mae['Original_LTV_(OLTV)']),\n",
    "                     )\n",
    "             )\n",
    "\n",
    "# test-train\n",
    "rng = np.random.RandomState(0) # this helps us control the randomness so we can reproduce results exactly\n",
    "X_train, X_test, y_train, y_test = train_test_split( fannie_mae , y, random_state=rng)"
   ]
  },
  {
   "cell_type": "markdown",
   "metadata": {},
   "source": [
    "Let's set up our model. For simplicity, this model just imputes missing values of (all) numerical variables and then OneHotEncodes the state variable. Here is "
   ]
  },
  {
   "cell_type": "code",
   "execution_count": 3,
   "metadata": {},
   "outputs": [],
   "source": [
    "preproc_pipe = ColumnTransformer(  \n",
    "    [ # new here: make_column_selector grabs all columns of a type\n",
    "    (\"num_impute\",SimpleImputer(), make_column_selector(dtype_include=np.number)),\n",
    "    (\"cat_trans\", OneHotEncoder(drop='first'), ['Property_state'])\n",
    "    ]\n",
    "    , remainder = 'drop' \n",
    ")\n",
    "\n",
    "ridge_pipe = make_pipeline(preproc_pipe,Ridge(1.0,\n",
    "                                              tol=1e-10))\n",
    "# A \"technical\" point on \"tol\" is hidden below"
   ]
  },
  {
   "cell_type": "code",
   "execution_count": 4,
   "metadata": {
    "tags": [
     "hide-input"
    ]
   },
   "outputs": [],
   "source": [
    "# it turns out that the tolerance setting matters a lot! \n",
    "# the default tolerance (1e-3) is not enough to allow the estimator to find improvements here\n",
    "# You can see this this way: run r2_score with tol 1e-3 and alpha 1, then alpha 100. \n",
    "# You'll get the same results indicating that alpha doesn't change the estimation when the \n",
    "# tolerance is weaker (1e-3 isnt as demanding as 1e-10)"
   ]
  },
  {
   "cell_type": "markdown",
   "metadata": {},
   "source": [
    "Let's use the model and compute its performance. "
   ]
  },
  {
   "cell_type": "code",
   "execution_count": 5,
   "metadata": {},
   "outputs": [
    {
     "data": {
      "text/plain": [
       "0.316965927129376"
      ]
     },
     "execution_count": 5,
     "metadata": {},
     "output_type": "execute_result"
    }
   ],
   "source": [
    "ridge_pipe.fit(X_train, y_train)\n",
    "r2_score(y_test,ridge_pipe.predict(X_test,))"
   ]
  },
  {
   "cell_type": "markdown",
   "metadata": {},
   "source": [
    "## The hyperparameters of a model"
   ]
  },
  {
   "cell_type": "markdown",
   "metadata": {},
   "source": [
    "```{note}\n",
    "How this pipeline estimator performs _depends on parameters for each step, **which we call \"hyperparameters\" in this context.**_\n",
    "```\n",
    "\n",
    "For example, the `Ridge()` model's key parameter is \"alpha\", and changing it will change its results. But it's not the only parameter that can change the results of this pipeline.\n",
    "\n",
    "```{warning}\n",
    "Now, look at how many parameters this tiny three-step model (impute, encode, ridge regression) has!\n",
    "```"
   ]
  },
  {
   "cell_type": "code",
   "execution_count": 6,
   "metadata": {},
   "outputs": [
    {
     "data": {
      "text/html": [
       "<style>#sk-container-id-1 {color: black;background-color: white;}#sk-container-id-1 pre{padding: 0;}#sk-container-id-1 div.sk-toggleable {background-color: white;}#sk-container-id-1 label.sk-toggleable__label {cursor: pointer;display: block;width: 100%;margin-bottom: 0;padding: 0.3em;box-sizing: border-box;text-align: center;}#sk-container-id-1 label.sk-toggleable__label-arrow:before {content: \"▸\";float: left;margin-right: 0.25em;color: #696969;}#sk-container-id-1 label.sk-toggleable__label-arrow:hover:before {color: black;}#sk-container-id-1 div.sk-estimator:hover label.sk-toggleable__label-arrow:before {color: black;}#sk-container-id-1 div.sk-toggleable__content {max-height: 0;max-width: 0;overflow: hidden;text-align: left;background-color: #f0f8ff;}#sk-container-id-1 div.sk-toggleable__content pre {margin: 0.2em;color: black;border-radius: 0.25em;background-color: #f0f8ff;}#sk-container-id-1 input.sk-toggleable__control:checked~div.sk-toggleable__content {max-height: 200px;max-width: 100%;overflow: auto;}#sk-container-id-1 input.sk-toggleable__control:checked~label.sk-toggleable__label-arrow:before {content: \"▾\";}#sk-container-id-1 div.sk-estimator input.sk-toggleable__control:checked~label.sk-toggleable__label {background-color: #d4ebff;}#sk-container-id-1 div.sk-label input.sk-toggleable__control:checked~label.sk-toggleable__label {background-color: #d4ebff;}#sk-container-id-1 input.sk-hidden--visually {border: 0;clip: rect(1px 1px 1px 1px);clip: rect(1px, 1px, 1px, 1px);height: 1px;margin: -1px;overflow: hidden;padding: 0;position: absolute;width: 1px;}#sk-container-id-1 div.sk-estimator {font-family: monospace;background-color: #f0f8ff;border: 1px dotted black;border-radius: 0.25em;box-sizing: border-box;margin-bottom: 0.5em;}#sk-container-id-1 div.sk-estimator:hover {background-color: #d4ebff;}#sk-container-id-1 div.sk-parallel-item::after {content: \"\";width: 100%;border-bottom: 1px solid gray;flex-grow: 1;}#sk-container-id-1 div.sk-label:hover label.sk-toggleable__label {background-color: #d4ebff;}#sk-container-id-1 div.sk-serial::before {content: \"\";position: absolute;border-left: 1px solid gray;box-sizing: border-box;top: 0;bottom: 0;left: 50%;z-index: 0;}#sk-container-id-1 div.sk-serial {display: flex;flex-direction: column;align-items: center;background-color: white;padding-right: 0.2em;padding-left: 0.2em;position: relative;}#sk-container-id-1 div.sk-item {position: relative;z-index: 1;}#sk-container-id-1 div.sk-parallel {display: flex;align-items: stretch;justify-content: center;background-color: white;position: relative;}#sk-container-id-1 div.sk-item::before, #sk-container-id-1 div.sk-parallel-item::before {content: \"\";position: absolute;border-left: 1px solid gray;box-sizing: border-box;top: 0;bottom: 0;left: 50%;z-index: -1;}#sk-container-id-1 div.sk-parallel-item {display: flex;flex-direction: column;z-index: 1;position: relative;background-color: white;}#sk-container-id-1 div.sk-parallel-item:first-child::after {align-self: flex-end;width: 50%;}#sk-container-id-1 div.sk-parallel-item:last-child::after {align-self: flex-start;width: 50%;}#sk-container-id-1 div.sk-parallel-item:only-child::after {width: 0;}#sk-container-id-1 div.sk-dashed-wrapped {border: 1px dashed gray;margin: 0 0.4em 0.5em 0.4em;box-sizing: border-box;padding-bottom: 0.4em;background-color: white;}#sk-container-id-1 div.sk-label label {font-family: monospace;font-weight: bold;display: inline-block;line-height: 1.2em;}#sk-container-id-1 div.sk-label-container {text-align: center;}#sk-container-id-1 div.sk-container {/* jupyter's `normalize.less` sets `[hidden] { display: none; }` but bootstrap.min.css set `[hidden] { display: none !important; }` so we also need the `!important` here to be able to override the default hidden behavior on the sphinx rendered scikit-learn.org. See: https://github.com/scikit-learn/scikit-learn/issues/21755 */display: inline-block !important;position: relative;}#sk-container-id-1 div.sk-text-repr-fallback {display: none;}</style><div id=\"sk-container-id-1\" class=\"sk-top-container\"><div class=\"sk-text-repr-fallback\"><pre>Pipeline(steps=[(&#x27;columntransformer&#x27;,\n",
       "                 ColumnTransformer(transformers=[(&#x27;num_impute&#x27;, SimpleImputer(),\n",
       "                                                  &lt;sklearn.compose._column_transformer.make_column_selector object at 0x0000024C8B6C7970&gt;),\n",
       "                                                 (&#x27;cat_trans&#x27;,\n",
       "                                                  OneHotEncoder(drop=&#x27;first&#x27;),\n",
       "                                                  [&#x27;Property_state&#x27;])])),\n",
       "                (&#x27;ridge&#x27;, Ridge(tol=1e-10))])</pre><b>In a Jupyter environment, please rerun this cell to show the HTML representation or trust the notebook. <br />On GitHub, the HTML representation is unable to render, please try loading this page with nbviewer.org.</b></div><div class=\"sk-container\" hidden><div class=\"sk-item sk-dashed-wrapped\"><div class=\"sk-label-container\"><div class=\"sk-label sk-toggleable\"><input class=\"sk-toggleable__control sk-hidden--visually\" id=\"sk-estimator-id-1\" type=\"checkbox\" ><label for=\"sk-estimator-id-1\" class=\"sk-toggleable__label sk-toggleable__label-arrow\">Pipeline</label><div class=\"sk-toggleable__content\"><pre>Pipeline(steps=[(&#x27;columntransformer&#x27;,\n",
       "                 ColumnTransformer(transformers=[(&#x27;num_impute&#x27;, SimpleImputer(),\n",
       "                                                  &lt;sklearn.compose._column_transformer.make_column_selector object at 0x0000024C8B6C7970&gt;),\n",
       "                                                 (&#x27;cat_trans&#x27;,\n",
       "                                                  OneHotEncoder(drop=&#x27;first&#x27;),\n",
       "                                                  [&#x27;Property_state&#x27;])])),\n",
       "                (&#x27;ridge&#x27;, Ridge(tol=1e-10))])</pre></div></div></div><div class=\"sk-serial\"><div class=\"sk-item sk-dashed-wrapped\"><div class=\"sk-label-container\"><div class=\"sk-label sk-toggleable\"><input class=\"sk-toggleable__control sk-hidden--visually\" id=\"sk-estimator-id-2\" type=\"checkbox\" ><label for=\"sk-estimator-id-2\" class=\"sk-toggleable__label sk-toggleable__label-arrow\">columntransformer: ColumnTransformer</label><div class=\"sk-toggleable__content\"><pre>ColumnTransformer(transformers=[(&#x27;num_impute&#x27;, SimpleImputer(),\n",
       "                                 &lt;sklearn.compose._column_transformer.make_column_selector object at 0x0000024C8B6C7970&gt;),\n",
       "                                (&#x27;cat_trans&#x27;, OneHotEncoder(drop=&#x27;first&#x27;),\n",
       "                                 [&#x27;Property_state&#x27;])])</pre></div></div></div><div class=\"sk-parallel\"><div class=\"sk-parallel-item\"><div class=\"sk-item\"><div class=\"sk-label-container\"><div class=\"sk-label sk-toggleable\"><input class=\"sk-toggleable__control sk-hidden--visually\" id=\"sk-estimator-id-3\" type=\"checkbox\" ><label for=\"sk-estimator-id-3\" class=\"sk-toggleable__label sk-toggleable__label-arrow\">num_impute</label><div class=\"sk-toggleable__content\"><pre>&lt;sklearn.compose._column_transformer.make_column_selector object at 0x0000024C8B6C7970&gt;</pre></div></div></div><div class=\"sk-serial\"><div class=\"sk-item\"><div class=\"sk-estimator sk-toggleable\"><input class=\"sk-toggleable__control sk-hidden--visually\" id=\"sk-estimator-id-4\" type=\"checkbox\" ><label for=\"sk-estimator-id-4\" class=\"sk-toggleable__label sk-toggleable__label-arrow\">SimpleImputer</label><div class=\"sk-toggleable__content\"><pre>SimpleImputer()</pre></div></div></div></div></div></div><div class=\"sk-parallel-item\"><div class=\"sk-item\"><div class=\"sk-label-container\"><div class=\"sk-label sk-toggleable\"><input class=\"sk-toggleable__control sk-hidden--visually\" id=\"sk-estimator-id-5\" type=\"checkbox\" ><label for=\"sk-estimator-id-5\" class=\"sk-toggleable__label sk-toggleable__label-arrow\">cat_trans</label><div class=\"sk-toggleable__content\"><pre>[&#x27;Property_state&#x27;]</pre></div></div></div><div class=\"sk-serial\"><div class=\"sk-item\"><div class=\"sk-estimator sk-toggleable\"><input class=\"sk-toggleable__control sk-hidden--visually\" id=\"sk-estimator-id-6\" type=\"checkbox\" ><label for=\"sk-estimator-id-6\" class=\"sk-toggleable__label sk-toggleable__label-arrow\">OneHotEncoder</label><div class=\"sk-toggleable__content\"><pre>OneHotEncoder(drop=&#x27;first&#x27;)</pre></div></div></div></div></div></div></div></div><div class=\"sk-item\"><div class=\"sk-estimator sk-toggleable\"><input class=\"sk-toggleable__control sk-hidden--visually\" id=\"sk-estimator-id-7\" type=\"checkbox\" ><label for=\"sk-estimator-id-7\" class=\"sk-toggleable__label sk-toggleable__label-arrow\">Ridge</label><div class=\"sk-toggleable__content\"><pre>Ridge(tol=1e-10)</pre></div></div></div></div></div></div></div>"
      ],
      "text/plain": [
       "Pipeline(steps=[('columntransformer',\n",
       "                 ColumnTransformer(transformers=[('num_impute', SimpleImputer(),\n",
       "                                                  <sklearn.compose._column_transformer.make_column_selector object at 0x0000024C8B6C7970>),\n",
       "                                                 ('cat_trans',\n",
       "                                                  OneHotEncoder(drop='first'),\n",
       "                                                  ['Property_state'])])),\n",
       "                ('ridge', Ridge(tol=1e-10))])"
      ]
     },
     "execution_count": 6,
     "metadata": {},
     "output_type": "execute_result"
    }
   ],
   "source": [
    "ridge_pipe # Pipeline \"steps\" is a list of tuples: [(name,transformer),(name,transformer),...,(name,estimator)]"
   ]
  },
  {
   "cell_type": "markdown",
   "metadata": {},
   "source": [
    "```{tip}\n",
    "Use `<pipename>.get_params()` to figure out the names for parameters that you'll explore with `gridsearchcv()`. I usually copy+paste the names straight off the printout. \n",
    "```"
   ]
  },
  {
   "cell_type": "code",
   "execution_count": 7,
   "metadata": {},
   "outputs": [
    {
     "data": {
      "text/plain": [
       "{'memory': None,\n",
       " 'steps': [('columntransformer',\n",
       "   ColumnTransformer(transformers=[('num_impute', SimpleImputer(),\n",
       "                                    <sklearn.compose._column_transformer.make_column_selector object at 0x0000024C8B6C7970>),\n",
       "                                   ('cat_trans', OneHotEncoder(drop='first'),\n",
       "                                    ['Property_state'])])),\n",
       "  ('ridge', Ridge(tol=1e-10))],\n",
       " 'verbose': False,\n",
       " 'columntransformer': ColumnTransformer(transformers=[('num_impute', SimpleImputer(),\n",
       "                                  <sklearn.compose._column_transformer.make_column_selector object at 0x0000024C8B6C7970>),\n",
       "                                 ('cat_trans', OneHotEncoder(drop='first'),\n",
       "                                  ['Property_state'])]),\n",
       " 'ridge': Ridge(tol=1e-10),\n",
       " 'columntransformer__n_jobs': None,\n",
       " 'columntransformer__remainder': 'drop',\n",
       " 'columntransformer__sparse_threshold': 0.3,\n",
       " 'columntransformer__transformer_weights': None,\n",
       " 'columntransformer__transformers': [('num_impute',\n",
       "   SimpleImputer(),\n",
       "   <sklearn.compose._column_transformer.make_column_selector at 0x24c8b6c7970>),\n",
       "  ('cat_trans', OneHotEncoder(drop='first'), ['Property_state'])],\n",
       " 'columntransformer__verbose': False,\n",
       " 'columntransformer__verbose_feature_names_out': True,\n",
       " 'columntransformer__num_impute': SimpleImputer(),\n",
       " 'columntransformer__cat_trans': OneHotEncoder(drop='first'),\n",
       " 'columntransformer__num_impute__add_indicator': False,\n",
       " 'columntransformer__num_impute__copy': True,\n",
       " 'columntransformer__num_impute__fill_value': None,\n",
       " 'columntransformer__num_impute__keep_empty_features': False,\n",
       " 'columntransformer__num_impute__missing_values': nan,\n",
       " 'columntransformer__num_impute__strategy': 'mean',\n",
       " 'columntransformer__num_impute__verbose': 'deprecated',\n",
       " 'columntransformer__cat_trans__categories': 'auto',\n",
       " 'columntransformer__cat_trans__drop': 'first',\n",
       " 'columntransformer__cat_trans__dtype': numpy.float64,\n",
       " 'columntransformer__cat_trans__handle_unknown': 'error',\n",
       " 'columntransformer__cat_trans__max_categories': None,\n",
       " 'columntransformer__cat_trans__min_frequency': None,\n",
       " 'columntransformer__cat_trans__sparse': 'deprecated',\n",
       " 'columntransformer__cat_trans__sparse_output': True,\n",
       " 'ridge__alpha': 1.0,\n",
       " 'ridge__copy_X': True,\n",
       " 'ridge__fit_intercept': True,\n",
       " 'ridge__max_iter': None,\n",
       " 'ridge__positive': False,\n",
       " 'ridge__random_state': None,\n",
       " 'ridge__solver': 'auto',\n",
       " 'ridge__tol': 1e-10}"
      ]
     },
     "execution_count": 7,
     "metadata": {},
     "output_type": "execute_result"
    }
   ],
   "source": [
    "ridge_pipe.get_params()"
   ]
  },
  {
   "cell_type": "markdown",
   "metadata": {},
   "source": [
    "That's a long list!\n",
    "\n",
    "So this pipeline has parameters for every function in the pipeline:\n",
    "- `ColumnTransformer()`'s \"remainder\" parameter is set above as \"drop\" (look for `columntransformer__remainder`) but you could have chosen \"passthrough\"\n",
    "    - The \"columntransformer__remainder\" name is: the function (columntransformer), two underscores, then the parameter name\n",
    "- `SimpleImputer()`'s \"strategy\" parameter is set above as \"mean\" (look for `columntransformer__num_impute__strategy`) but you could have chosen \"median\"\n",
    "    - The \"columntransformer__num_impute__strategy\" name is like this because the imputer is nested inside the column transformer (so \"columntransformer\" is before the impute with two underscores), and when I created `preproc_pipe`, I called the imputation step \"num_impute\"\n",
    "- `OneHotEncoder()`'s \"drop\" parameter is set to `None`\n",
    "- `Ridge()`'s \"alpha\" is set to 1.0. \n",
    "\n",
    "\n"
   ]
  },
  {
   "cell_type": "markdown",
   "metadata": {},
   "source": [
    "## Tuning hyperparameters\n",
    "\n",
    "The basic idea is to repeatedly run the pipeline through cross-validation while changing the hyperparameters to improve your CV scores.\n",
    "\n",
    "To use GridSearchCV\n",
    "\n",
    "1. Set up your parameter grids (all of the parameters you would like to test). \n",
    "    - **Initially, cast a wide and sparse net.** \n",
    "    - After running it once, we can run it again with more parameter values in the regions that we think the best model is in.\n",
    "    - We will iterate on this, and repeat as needed...\n",
    "1. Set up GridSearchCV\n",
    "1. Get the search results by fitting GridSearchCV\n",
    "    - I like to visualize my CV scores on a y-axis and the parameters on the X-axis so that I know I'm at the global maximum. Just because you're at the top of a hill doesn't mean you're at the top of Everest. In math terminology, you don't want to find the local maximum, you want the global maximum:\n",
    "    ```{image} ./img/localmax.png\n",
    "    :alt: localmax\n",
    "    :width: 300px\n",
    "    :align: center\n",
    "    ```\n",
    "1. Examine the output\n",
    "1. Save the best parameters\n",
    "\n",
    "Let's optimize alpha and the imputation method."
   ]
  },
  {
   "cell_type": "code",
   "execution_count": 8,
   "metadata": {},
   "outputs": [
    {
     "data": {
      "text/plain": [
       "<AxesSubplot: title={'center': 'CV score by alpha'}, xlabel='alpha'>"
      ]
     },
     "execution_count": 8,
     "metadata": {},
     "output_type": "execute_result"
    },
    {
     "data": {
      "image/png": "[encoded data removed]",
      "text/plain": [
       "<Figure size 640x480 with 1 Axes>"
      ]
     },
     "metadata": {},
     "output_type": "display_data"
    }
   ],
   "source": [
    "# 1. Set up your parameter grids (all of the parameters you would like to test). \n",
    "\n",
    "alphas = list(np.linspace(0.0001,100,25)) # cast net wide and sparse (only 25 points)\n",
    "strats = ['mean','median']\n",
    "parameters = {'ridge__alpha': alphas,\n",
    "              'columntransformer__num_impute__strategy':strats\n",
    "             }\n",
    "\n",
    "# 2. Set up GridSearchCV\n",
    "\n",
    "grid_search = GridSearchCV(estimator = ridge_pipe, \n",
    "                           param_grid = parameters,\n",
    "                           cv = 5) # some folds with whatever the default is (look it up!)\n",
    "\n",
    "# 3. Get the search results by fitting GridSearchCV\n",
    "\n",
    "results = grid_search.fit(X_train,y_train)\n",
    "                           \n",
    "# 4. Examine the output\n",
    "\n",
    "results_df = pd.DataFrame(results.cv_results_).set_index('params')\n",
    "# extract alpha from the params variable\n",
    "results_df['alpha'] = [c['ridge__alpha'] for c in results_df.index]\n",
    "results_df = results_df.sort_values('alpha')\n",
    "results_df.plot(x='alpha',y='mean_test_score',kind='line',\n",
    "                title='CV score by alpha')\n",
    "\n",
    "# 5. Save the best parameters\n",
    "\n",
    "# (It's not time - this graph below doesn't look optimized, go \n",
    "# more to the left!)"
   ]
  },
  {
   "cell_type": "markdown",
   "metadata": {},
   "source": [
    "Clearly, the maximum is a very small alpha..."
   ]
  },
  {
   "cell_type": "code",
   "execution_count": 9,
   "metadata": {},
   "outputs": [],
   "source": [
    "alphas = list(np.linspace(0.000001,0.0001,25))\n"
   ]
  },
  {
   "cell_type": "code",
   "execution_count": 10,
   "metadata": {
    "tags": []
   },
   "outputs": [
    {
     "data": {
      "image/png": "[encoded data removed]",
      "text/plain": [
       "<Figure size 640x480 with 1 Axes>"
      ]
     },
     "metadata": {},
     "output_type": "display_data"
    }
   ],
   "source": [
    "# 1. Set up your parameter grids (all of the parameters you would like to test). \n",
    "\n",
    "strats = ['mean','median']\n",
    "parameters = {'ridge__alpha': alphas,\n",
    "              'columntransformer__num_impute__strategy':strats\n",
    "             }\n",
    "\n",
    "# 2. Set up GridSearchCV\n",
    "\n",
    "grid_search = GridSearchCV(estimator = ridge_pipe, \n",
    "                           param_grid = parameters,\n",
    "                           cv = 5) # some folds with whatever the default is (look it up!)\n",
    "\n",
    "# 3. Get the search results by fitting GridSearchCV\n",
    "\n",
    "results = grid_search.fit(X_train,y_train)\n",
    "                           \n",
    "# 4. Save the best parameters\n",
    "\n",
    "results_df = pd.DataFrame(results.cv_results_).set_index('params')\n",
    "results_df['alpha'] = [c['ridge__alpha'] for c in results_df.index]\n",
    "results_df['strat'] = [c['columntransformer__num_impute__strategy'] for c in results_df.index]\n",
    "\n",
    "results_df = results_df.sort_values('alpha')\n",
    "results_df.plot(x='alpha',y='mean_test_score',kind='line',\n",
    "                title='CV score by alpha')\n",
    "\n",
    "# 5. Save the best parameters\n",
    "\n",
    "best_ridge = results.best_estimator_ # saves the best gridsearch model \n"
   ]
  },
  {
   "cell_type": "markdown",
   "metadata": {},
   "source": [
    "You should examine performance as a function of the other params in your gridsearch too, but here, there are no missing values in the original data of X, so the imputation choice didn't matter!\n"
   ]
  },
  {
   "cell_type": "markdown",
   "metadata": {},
   "source": [
    "\n",
    "## Using tuned parameters\n",
    "\n",
    "So how did we do? We improved from 0.317 to 0.322, a 1.6% improvement for not much work!"
   ]
  },
  {
   "cell_type": "code",
   "execution_count": 11,
   "metadata": {},
   "outputs": [
    {
     "data": {
      "text/plain": [
       "0.32224872857886666"
      ]
     },
     "execution_count": 11,
     "metadata": {},
     "output_type": "execute_result"
    }
   ],
   "source": [
    "best_ridge.fit(X_train,y_train)      # train\n",
    "r2_score(y_test,best_ridge.predict(X_test,)) # examine out of sample\n"
   ]
  }
 ],
 "metadata": {
  "kernelspec": {
   "display_name": "Python 3 (ipykernel)",
   "language": "python",
   "name": "python3"
  },
  "language_info": {
   "codemirror_mode": {
    "name": "ipython",
    "version": 3
   },
   "file_extension": ".py",
   "mimetype": "text/x-python",
   "name": "python",
   "nbconvert_exporter": "python",
   "pygments_lexer": "ipython3",
   "version": "3.8.16"
  }
 },
 "nbformat": 4,
 "nbformat_minor": 4
}
