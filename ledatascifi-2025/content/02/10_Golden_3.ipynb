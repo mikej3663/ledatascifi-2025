{
 "cells": [
  {
   "cell_type": "markdown",
   "metadata": {},
   "source": [
    "## THE GOLDEN RULES \n",
    "\n",
    "Following these GOLDEN RULES will save you hours and hours of time.\n",
    "\n",
    "```{tip}\n",
    "The rules below are really golden. How about you copy this page into your class notes repo someplace you can reference them?\n",
    "```\n",
    "\n",
    "| **Category** | **Rule**  |\n",
    "| :--- | :--- |\n",
    "| 0. **PLAN BEFORE YOU CODE** | A. \"Pseudo code\" is writing out the broad steps in plain language. I often (almost always for complicated tasks) do this on paper, then translate it to code as an outline (in the code's comments). <br> <br> Maybe planning sounds boring and like a waste of time. I get it; I also want to [shoot first](https://youtu.be/la7uuFsCIrg?t=43) like [Han did...](https://youtu.be/YtoqDF8EnsA)  but coders like Han often [end up looking like this guy](https://youtu.be/mLyOj_QD4a4?t=67)... |\n",
    "| | B. Break the problem into chunks/smaller problems. Large chunks should be in different script files. Within an individual file that is doing one thing, try to break it down. See rule 3.A and 5.B below too. |\n",
    "| 1. Automation | A. Automate everything that can be automated, don't do point-and-click analysis! |\n",
    "| | B. If the project involves running multiple code files in order, write a single script that executes all code for the project from beginning to end, [like this one.](10_Golden_6.html#part-3-making-replication-easy) |\n",
    "| 2. Version control | A. Store code and data under version control.  |\n",
    "| | B. [Use the Github workflow!](../01/03a_githubworkflow) | \n",
    "| | C. **Before checking the directory back in, clear all outputs, delete temp files, and then run the whole directory to make sure the outputs reproduce!** (Check: Did it work right?) <br> <br> [If the project uses notebook files, always look to see if the first executed code block has \"[1]\" next to it and that all the subsequent code blocks are numbered consecutively.](../01/06_python.html?highlight=golden#clear-output-and-rerun-from-the-start)   |\n",
    "| 3.  [Organizing folders](10_Golden_6) | A. Separate  folders/directories and files by function |\n",
    "| | B. Put input files into an input folder and outputs into a different folder  |\n",
    "| | A + B = your folders and files will be largely self-documenting |\n",
    "| | C. Make directories portable - they should run on any computer, or if you move them to another place on your computer. See the next rule. |\n",
    "| | D [**Use RELATIVE FILE PATHS, not absolute file paths**](10_Golden_7)  ⭐ ⭐ |\n",
    "| 4. [Data](10_Golden_4) | A. Store cleaned data in tables with unique, non-missing \"keys\" |\n",
    "| | B. Keep data normalized as far into your code pipeline as you can |\n",
    "| | C. [Data cleaning and exploration data analysis golden rules here.](../03/02e_eda_golden) |\n",
    "| 5. [Functions](10_Golden_5a) | A. Write functions to eliminate redundancy |\n",
    "| | B. Write functions to improve clarity |\n",
    "| | C. Otherwise, don't write functions |\n",
    "| | D. **Test your functions!** Use small examples where you know the right answers, and try variations to see if the function breaks in some cases.   |\n",
    "| 6. [Documentation and comments](10_Golden_5b) | A. Is good... to a point |\n",
    "| | B. Don't write documentation you will not maintain |\n",
    "| | C. Code is better off when it is self-documenting |\n",
    "| 7. [Writing code](10_Golden_8) | A. Don't use magic numbers, define once as variables and refer as needed |\n",
    "| | B. Write DRY code: Don't Repeat Yourself! See rule 5.A. |\n",
    "| | C. Premature optimization (for speed) is the root of all evil. | \n",
    "| | D. Use self-documenting variable and function names. | \n",
    "| 8. Look at your data/objects | As discussed [here](../01/07_debugging.html#seriously-print-your-data-and-objects-often) and many other places. <br> <br> **ABCD = Always Be Checking your Data!** | "
   ]
  }
 ],
 "metadata": {
  "kernelspec": {
   "display_name": "Python 3 (ipykernel)",
   "language": "python",
   "name": "python3"
  },
  "language_info": {
   "codemirror_mode": {
    "name": "ipython",
    "version": 3
   },
   "file_extension": ".py",
   "mimetype": "text/x-python",
   "name": "python",
   "nbconvert_exporter": "python",
   "pygments_lexer": "ipython3",
   "version": "3.8.16"
  }
 },
 "nbformat": 4,
 "nbformat_minor": 4
}
