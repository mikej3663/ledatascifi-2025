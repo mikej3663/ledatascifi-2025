{
 "cells": [
  {
   "cell_type": "markdown",
   "metadata": {},
   "source": [
    "# Organizing your projects\n",
    "\n",
    "Our fake project project folder was organized poorly. Let's use the [golden rules](10_Golden_3) about how to organize folders and see if this makes the project easier to replicate (in terms of accuracy and time required).\n",
    "\n",
    "_(Note, there are other ways to smartly divide up analysis than what I propose here.)_\n",
    "\n",
    "## Part 1: Separate the files based on function\n",
    "\n",
    "So the first thing I did was split the project into two sub-directories: \"build\" (whose function is to build the sample from the raw data inputs) and \"analysis\". These are two-sub tasks of any data project, and here, I've chosen to treat them as different functions and thus they get different folders (**Rule 3.A**).\n",
    "\n",
    "So now the `Death_is_Which_Way` folder looks like this:\n",
    "\n",
    "![](img/dir-top.png)\n",
    "\n",
    "Let's see what the build folder looks like\n",
    " \n",
    "## Part 2: Organize the \"build\" sub-folder\n",
    "\n",
    "Look at the picture below. \n",
    "\n",
    "The build folder takes \"inputs\", which are processed by files inside \"code\", and places the analysis sample (now explicitly created!) in \"output\". Notice the inputs and outputs are clearly separated! (**Rule 3.B**) Temp files are created along the way, but are not \"output\".\n",
    "\n",
    "![](img/dir-build.png)\n",
    "\n",
    "## Part 3: Making replication easy\n",
    "\n",
    "**Also, notice the new file `run_directory.py` in the code folder.**[^alts] Here is what that file is:\n",
    "\n",
    "[^alts]: Sometimes this file is called main.py, or other things. The important thing is the name calls attention to it as the key file to run. \n",
    "\n",
    "```python\n",
    "# creates DataSample.csv from inputs/\n",
    "\n",
    "def clean_slate():\n",
    "    # caution: as written, this deletes all files in temp and output. \n",
    "    import glob, os\n",
    "\n",
    "    files = glob.glob('temp/*')\n",
    "    for f in files:\n",
    "        os.remove(f)    \n",
    "\n",
    "    files = glob.glob('output/*')\n",
    "    for f in files:\n",
    "        os.remove(f)   \n",
    "        \n",
    "clean_slate() \n",
    "execfile(clean_data.py)\n",
    "execfile(merge_data.py)\n",
    "execfile(export_data.py) \n",
    "```\n",
    "\n",
    "It very quickly and plainly documents how to run the entire code in the \"build\" project (**Rule 1.A and 1.B**), and makes it easy to do so every time (**Rule 2.C**) before you push it back to the master repo on GitHub (**Rule 2.A**). `run_directory.py` is so simple, it is self-documenting (**Rule 6.C**).\n",
    "\n"
   ]
  }
 ],
 "metadata": {
  "kernelspec": {
   "display_name": "Python 3 (ipykernel)",
   "language": "python",
   "name": "python3"
  },
  "language_info": {
   "codemirror_mode": {
    "name": "ipython",
    "version": 3
   },
   "file_extension": ".py",
   "mimetype": "text/x-python",
   "name": "python",
   "nbconvert_exporter": "python",
   "pygments_lexer": "ipython3",
   "version": "3.8.12"
  }
 },
 "nbformat": 4,
 "nbformat_minor": 4
}
