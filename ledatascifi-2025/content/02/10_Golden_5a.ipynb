{
 "cells": [
  {
   "cell_type": "markdown",
   "metadata": {},
   "source": [
    "# Functions\n",
    "\n",
    ">Writing your own functions is important for improving the clarity of your code because it\n",
    ">\n",
    ">- separates different strands of logic (**Rule 5.B**)\n",
    ">- allows you to reuse code (**Rule 5.A**)\n",
    ">- prevents copy/paste errors (**Rule 5.A**)\n",
    "\n",
    "The [\"Code and Data\" reference](https://web.stanford.edu/~gentzkow/research/CodeAndData.xhtml#magicparlabel-1085) has a short but very nice illustration justifying and explaining those rules. Do yourself a favor and read it!\n",
    "\n",
    "I'll simply add that while a \"wet jumpshot\" is good in basketball, \"wet code\" is bad. You've Wasted Everyone's Time by Writing Everything Twice, which is bad even though We Enjoy Typing. \n",
    "\n",
    "Nah, you want your code to be DRY. It's very simple: Don't Repeat Yourself. \n",
    "\n",
    "So if you're repeating the same block of code multiple times, turn it into a short function. \n",
    "\n",
    "Our [textbook has a section on how to build functions](../01/06_python.html#writing-your-own-functions) and we will cover many examples in class. Additionally, our resources page has a section on python, which will point you to some [good explainers](https://github.com/jakevdp/WhirlwindTourOfPython/blob/master/08-Defining-Functions.ipynb) on writing them.\n",
    "\n",
    "A few more points:\n",
    "- Don't write functions for the sake of it! Writing functions can be a time-consuming waste of time that eats up time. (Lots of redundancy in that sentence was a waste of time to the reader, but at least it was short. Similarly, bad code is less problematic when it is short.)\n",
    "- **Rule 5.D:** If you are going to reuse your code, write a \"unit test\", which is a script that tests out the behavior of the function you've written to make sure it works as intended. It should run your function with a few different inputs, possibly inputs with deliberate errors, test the function's output against _**answers you know in advance are correct**_. \n",
    "    - **Using \"toy\" or \"small\" datasets is essential to developing functions and code more broadly.** Create a small fake dataset because you can compute the answers by hand. You can also sample a small part of a large dataset.\n",
    "    - Corollary: Don't unit test for the sake of it. You don't need to check what `round_a_number()` does when you use a string as input. \n"
   ]
  }
 ],
 "metadata": {
  "kernelspec": {
   "display_name": "Python 3 (ipykernel)",
   "language": "python",
   "name": "python3"
  },
  "language_info": {
   "codemirror_mode": {
    "name": "ipython",
    "version": 3
   },
   "file_extension": ".py",
   "mimetype": "text/x-python",
   "name": "python",
   "nbconvert_exporter": "python",
   "pygments_lexer": "ipython3",
   "version": "3.8.12"
  }
 },
 "nbformat": 4,
 "nbformat_minor": 4
}
