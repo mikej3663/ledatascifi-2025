{
 "cells": [
  {
   "cell_type": "markdown",
   "metadata": {},
   "source": [
    "# Visual EDA Tools\n",
    "\n",
    "```{admonition} (Partly) Automated Visual EDA via Lux\n",
    ":class: tip\n",
    "\n",
    "Lux \"makes data science easier by automating certain aspects of the data exploration process. Lux is designed to facilitate faster experimentation with data, even when the user does not have a clear idea of what they are looking for. Lux is integrated with an interactive Jupyter widget that allows users to quickly browse through large collections of data directly within their Jupyter notebooks.\"\n",
    "\n",
    "```\n",
    "\n",
    "- First, look at the [quickstart overview](https://lux-api.readthedocs.io/en/latest/source/getting_started/overview.html) to get an idea of how it works and what it can do. \n",
    "- If you like what you see there, try it!\n",
    "    1. Load a dataframe\n",
    "    1. Look at Lux's recommended visualizations, point and click, and guide it towards what you want\n",
    "    1. When you have something you like, you can [easily output the code that built that figure](https://lux-api.readthedocs.io/en/latest/source/guide/export.html)\n",
    "- Feedback wanted: Please let me know if you use it and how it goes! If it's good, I'll integrate it more next year into the class. \n",
    "- For more, the [repo is here](https://github.com/lux-org/lux) and the [docs are here](https://lux-api.readthedocs.io/en/latest/index.html).\n"
   ]
  }
 ],
 "metadata": {
  "kernelspec": {
   "display_name": "Python 3 (ipykernel)",
   "language": "python",
   "name": "python3"
  },
  "language_info": {
   "codemirror_mode": {
    "name": "ipython",
    "version": 3
   },
   "file_extension": ".py",
   "mimetype": "text/x-python",
   "name": "python",
   "nbconvert_exporter": "python",
   "pygments_lexer": "ipython3",
   "version": "3.8.16"
  }
 },
 "nbformat": 4,
 "nbformat_minor": 4
}
