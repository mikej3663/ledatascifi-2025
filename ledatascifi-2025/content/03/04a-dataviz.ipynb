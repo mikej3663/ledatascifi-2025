{
 "cells": [
  {
   "cell_type": "markdown",
   "metadata": {},
   "source": [
    "# Data Visualization\n",
    "\n",
    "Data viz can be extremely powerful. There is an enormous amount of scholarship about how to create good visuals and entire classes within our school about visualization itself. \n",
    "\n",
    "This chapter of the website is merely a light introduction to the topic, but will hopefully cover the essentials so that you can create, use, and criticize figures. \n",
    "\n",
    "```{admonition} Some great resources - check out each\n",
    ":class: tip\n",
    "\n",
    "- How to think about visualizing data (not focused on code)\n",
    "    - [socviz.co, a free online book on data viz](https://socviz.co/) by Kieran Healy. Read Chapter 1 for sure. After that, the code is in R but the text is still rich.\n",
    "    - You'll learn a ton about how to think about data viz from skimming [Fundamentals of Data Visualization, by Claus O. Wilke](https://clauswilke.com/dataviz/). \n",
    "    - Students love [this chapter on narrative visualization](https://clauswilke.com/dataviz/telling-a-story.html)\n",
    "    - [An Economist's Guide to Visualizing Data](https://pubs.aeaweb.org/doi/pdf/10.1257/jep.28.1.209) has before/after makeover examples\n",
    "- How-tos in python    \n",
    "    - [What chart should I use](https://www.data-to-viz.com) and [how can I make it](https://python-graph-gallery.com)\n",
    "    - [`seaborn` tutorials](https://seaborn.pydata.org/tutorial.html)    -\n",
    "    - [A good python data viz tutorial on Kaggle](https://www.kaggle.com/residentmario/welcome-to-data-visualization)\n",
    "- How-NOT-tos \n",
    "    - [`r/DataIsUgly`](https://www.reddit.com/r/dataisugly/top/?t=year)\n",
    "    - [htps://viz.wtf/](https://viz.wtf/)\n",
    "    - [https://junkcharts.typepad.com/](https://junkcharts.typepad.com/)\n",
    "- [A great data viz blog](https://flowingdata.com/) and [some other good ones](https://www.tableau.com/learn/articles/best-data-visualization-blogs)\n",
    "\n",
    "```"
   ]
  }
 ],
 "metadata": {
  "kernelspec": {
   "display_name": "Python 3 (ipykernel)",
   "language": "python",
   "name": "python3"
  },
  "language_info": {
   "codemirror_mode": {
    "name": "ipython",
    "version": 3
   },
   "file_extension": ".py",
   "mimetype": "text/x-python",
   "name": "python",
   "nbconvert_exporter": "python",
   "pygments_lexer": "ipython3",
   "version": "3.8.16"
  }
 },
 "nbformat": 4,
 "nbformat_minor": 4
}
