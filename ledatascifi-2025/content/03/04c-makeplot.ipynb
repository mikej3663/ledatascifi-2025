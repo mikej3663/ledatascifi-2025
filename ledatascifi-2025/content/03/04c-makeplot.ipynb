{
 "cells": [
  {
   "cell_type": "markdown",
   "metadata": {},
   "source": [
    "# Making a Plot\n",
    "\n",
    "To start plotting, add these to your import statements at the top of your file:\n",
    "```python\n",
    "import pandas as pd\n",
    "import seaborn as sns\n",
    "import matplotlib.pyplot as plt  # sometimes we want to tweak plots\n",
    "```\n",
    "\n",
    "## Plotting process\n",
    "\n",
    "| # |  Step | Note |\n",
    "| --- | --- | --- |\n",
    "| 0 | Ask a question about the data | _Ex: What is the distribution of unemployment in each state?_\n",
    "| 1 | Q > What the plot should look like. Draw it! | _Draw it on paper!_\n",
    "| 2 | Plot appearance > which plot function/options to use | _Find a `pd` or `sns` plot example that looks like that._\n",
    "| 3 | The function dictates how data should be formatted before you call the plot | _Key: Wide or tall?_\n",
    "\n",
    "## General tips\n",
    "\n",
    "1. **Start with simple graphs**, and then build in and layer on \"complications\" and features.\n",
    "    - Easy formatting things you should always do: title, xlabel, ylabel\n",
    "    - Perfecting graphs can involve a lot of tweaks and code, so only do this when you **know** you have the content of the graph correct and that it will be in your deliverable (assignment, report, etc)\n",
    "2. **Really** compare your code with the syntax in the documentation. \n",
    "    - **Understanding what each parameter does and needs is essential.**\n",
    "    - Triple check for typos, unclosed parentheses, and the like\n",
    "1. Three places to find similar charts (and the functions that make them)\n",
    "    - [What chart should I use (with `sns` examples)](https://www.data-to-viz.com) and more help on [how can I make it](https://python-graph-gallery.com)\n",
    "    - The [`seaborn` tutorial page](https://seaborn.pydata.org/tutorial.html)\n",
    "    - The [`seaborn` gallery](https://seaborn.pydata.org/examples/index.html)\n",
    "\n",
    "## Syntax tips\n",
    "\n",
    "With `seaborn`, I usually use this syntax that looks something this like for graphing. (Delete the \"<\" and \">\" and replace the inside with what you need.) Obviously, you'll see many examples in this chapter that deviate from this. Usually, this is because you don't need to explicitly declare \"data\", or because \"x\" is just assumed as all variables in the dataset. \n",
    "\n",
    "```python\n",
    "sns.<function>(data = <dataframe> [optional data functions],\n",
    "               x = '<varname>', y = '<varname>',  \n",
    "               [optional arguments for specific plots]   )\n",
    "```\n",
    "\n",
    "```{admonition} Tips for the \"Optional data functions\":\n",
    ":class: tip\n",
    "1. Sometimes I add  `.query()` after the dataframe name to filter outliers\n",
    "2. Sometimes I add `.sample()` afterwards to plot a more manageable amount of data. \n",
    "```\n",
    "\n",
    "Example: \n",
    "```python\n",
    "sns.boxplot(data=ccm.query('td_a < 1 & td_a > 0'),\n",
    "            x='td_a')\n",
    "```\n",
    "\n"
   ]
  },
  {
   "cell_type": "markdown",
   "metadata": {},
   "source": [
    "## Tips on plotting workflow\n",
    "\n",
    "Generally, to plot in Python:\n",
    "1. Put your data into a DataFrame\n",
    "2. Format the data [long](02b_pandasVocab.html#the-shape-of-data) if you want to use a `sns` function\n",
    "3. Use `pd` or `sns` plotting functions.\n",
    "    - Q: Which? A: Whichever is easiest! `panda`'s plotting functions are simple and good for early-stage exploration and some simple graphics (bar, \"barh\", scatter, and density), but `seaborn` has many more built-in options, has simpler syntax, and is easier to use, IMO.\n",
    "    - **Start with basic plots, then layer in features**\n",
    "    - Get the \"gist\" of the figure right\n",
    "4. If you need to customize the figure, you'll end up using `matplotlib` commands after the main plot function. Matplotlib is a full-powered (but confusing as heck) graphing package. In fact, both `pandas` and `seaborn` are just using `matplotlib`, but they hide the gory details for us. Thanks, `seaborn`!\n",
    "    - [This page](04f-betterplots) discusses customizing and improving figures\n",
    "    - **Only customize when necessary for hyper control. Focus on CONTENT** over hyper-control of formatting. \n",
    "    - Some \"format\" tweaks (add a title, change the axis titles) and choices about plotting can be quick/cheap and have high value, and you should do these **right before you finish your project/assignment** and are about to post it officially. Otherwise, focus on content.\n"
   ]
  },
  {
   "cell_type": "markdown",
   "metadata": {},
   "source": [
    "\n",
    "\n",
    "## \"I swear the syntax is correct!\"\n",
    "\n",
    "```{warning}\n",
    "After syntax errors, **most graphing pain comes from insufficient data wrangling.** Most plotting functions have assumptions about how the data is shaped. Data might be unwieldy but we can control it:\n",
    "```\n",
    "\n",
    "![](https://media.giphy.com/media/TYvH0iRtnqYo0/giphy.gif)\n",
    "\n",
    "How do we wrangle our data to make plot functions happy?\n",
    "- **Keep your data in \"tidy form\" (aka [tall data aka long data](02b_pandasVocab).** `Seaborn` expects data shaped like this. Long data is generally better for data analysis and visualization (even aside from Seaborn's assumptions)\n",
    "- _The exception: Pandas._ If you want to plot using a `pandas` plot function, you _might_ have to reshape (temporarily) your data to the wider \"output shape\" that corresponds to the graph type you're generating.\n",
    "\n"
   ]
  }
 ],
 "metadata": {
  "kernelspec": {
   "display_name": "Python 3 (ipykernel)",
   "language": "python",
   "name": "python3"
  },
  "language_info": {
   "codemirror_mode": {
    "name": "ipython",
    "version": 3
   },
   "file_extension": ".py",
   "mimetype": "text/x-python",
   "name": "python",
   "nbconvert_exporter": "python",
   "pygments_lexer": "ipython3",
   "version": "3.8.16"
  }
 },
 "nbformat": 4,
 "nbformat_minor": 4
}
