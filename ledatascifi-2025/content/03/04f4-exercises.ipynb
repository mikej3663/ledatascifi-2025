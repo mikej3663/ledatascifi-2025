{
 "cells": [
  {
   "cell_type": "markdown",
   "metadata": {},
   "source": [
    "# Exercises"
   ]
  },
  {
   "cell_type": "markdown",
   "metadata": {},
   "source": [
    "**Questions:** \n",
    "\n",
    "1. Suppose we create a scatter plot but find that due to the large number of points it's hard to interpret. What are two things we can do to fix this issue?\n",
    "2. Suppose that we create an n-by-n FacetGrid. How big can \"n\" get?\n",
    "3.  What are the two things about faceting which make it appealing?\n",
    "4.  When is `sns.pairplot` most useful?\n",
    "1. Redo the last graph on the [customization page](04f2-customizing_figs) but instead, put the labels at the end of the lines. [You can follow the code here.](https://aeturrell.github.io/coding-for-economists/vis-narrative.html#labelling-line-ends) Email me if you succeed!\n"
   ]
  },
  {
   "cell_type": "markdown",
   "metadata": {
    "tags": [
     "remove_input"
    ]
   },
   "source": [
    "**Answers**\n",
    "\n",
    "```{dropdown} Q1\n",
    "One way to fix this issue would be to sample the points. Another way to fix it would be to use a hex plot.\n",
    "```\n",
    "```{dropdown} Q2\n",
    "A matter of size and visibility, but 5x5 is probably as large as you want to go. \n",
    "```\n",
    "```{dropdown} Q3\n",
    "It's an easy way to show info about additional variables of interest to a figure.\n",
    "```\n",
    "```{dropdown} Q4\n",
    "Especially useful when you're exploring the dataset.\n",
    "```\n"
   ]
  }
 ],
 "metadata": {
  "kernelspec": {
   "display_name": "Python 3 (ipykernel)",
   "language": "python",
   "name": "python3"
  },
  "language_info": {
   "codemirror_mode": {
    "name": "ipython",
    "version": 3
   },
   "file_extension": ".py",
   "mimetype": "text/x-python",
   "name": "python",
   "nbconvert_exporter": "python",
   "pygments_lexer": "ipython3",
   "version": "3.8.16"
  }
 },
 "nbformat": 4,
 "nbformat_minor": 4
}
