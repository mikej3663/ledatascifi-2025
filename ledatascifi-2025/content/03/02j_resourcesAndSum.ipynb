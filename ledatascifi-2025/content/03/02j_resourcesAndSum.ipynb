{
 "cells": [
  {
   "cell_type": "markdown",
   "metadata": {},
   "source": [
    "# Summary \n",
    "\n",
    "- Most of the material in this chapter has been geared at an understanding of the core data science tool for data analysis - the _dataframe_ - and how to work with data in it (functions, tasks, manipulating and shaping data)\n",
    "- But we also covered good habits for data analysis, which will pay dividends as we dive into more (and new) datasets in the future\n",
    "- [The Finance Applications chapter](../05/05a_finapps) contains examples of how we can use pandas to compound returns, easily calculate betas, and more. \n",
    "\n",
    "## Resources:\n",
    "\n",
    "- [This cheatsheet](https://pandas.pydata.org/Pandas_Cheat_Sheet.pdf)\n",
    "- [And this cheatsheet](https://github.com/LeDataSciFi/ledatascifi-2025/blob/main/cheatsheets/pandasbasics.pdf)\n",
    "- [And this cheatsheet](https://github.com/LeDataSciFi/ledatascifi-2025/blob/main/cheatsheets/pandas.pdf)\n",
    "- [Python Data Science Handbook](https://jakevdp.github.io/PythonDataScienceHandbook/03.00-introduction-to-pandas.html) \n",
    "- [Aggregation and grouping](https://jakevdp.github.io/PythonDataScienceHandbook/03.08-aggregation-and-grouping.html)\n",
    "- [Pivot tables](https://jakevdp.github.io/PythonDataScienceHandbook/03.09-pivot-tables.html)\n",
    "- [This covers indexing and slicing issues nicely](https://tomaugspurger.github.io/modern-1-intro)\n",
    "- [This covers method chaining so that Python can approximate R's elegance at data wrangling and plotting](https://stmorse.github.io/journal/tidyverse-style-pandas.html)\n",
    "- [This also has nice and quick examples showing Python matching R functions](https://gist.github.com/conormm/fd8b1980c28dd21cfaf6975c86c74d07)\n",
    "- [The most popular questions about `pandas` on Stackoverflow.](https://stackoverflow.com/questions/tagged/pandas?sort=votes&pageSize=50) This will give you an idea of common places others get stuck, and slicing and indexing issues are high on the list.\n",
    "\n",
    "\n",
    "\n"
   ]
  }
 ],
 "metadata": {
  "kernelspec": {
   "display_name": "Python 3 (ipykernel)",
   "language": "python",
   "name": "python3"
  },
  "language_info": {
   "codemirror_mode": {
    "name": "ipython",
    "version": 3
   },
   "file_extension": ".py",
   "mimetype": "text/x-python",
   "name": "python",
   "nbconvert_exporter": "python",
   "pygments_lexer": "ipython3",
   "version": "3.8.16"
  }
 },
 "nbformat": 4,
 "nbformat_minor": 4
}
