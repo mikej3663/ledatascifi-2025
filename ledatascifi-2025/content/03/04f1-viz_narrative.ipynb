{
 "cells": [
  {
   "cell_type": "markdown",
   "metadata": {},
   "source": [
    "# Better Plots "
   ]
  },
  {
   "cell_type": "markdown",
   "metadata": {},
   "source": [
    "## The theory of good visuals\n",
    "\n",
    "There is an enormous amount of scholarship and debate about what makes for _**effective**_ graphs and I can't possibly do the field justice. Below is simply one person's distillation of some tips that are reasonably well agreed upon. I'm aiming for concise here so that we can practice, but if you want more, visit the links below. "
   ]
  },
  {
   "cell_type": "markdown",
   "metadata": {},
   "source": [
    "```{admonition} [Don'ts](https://www.biostat.wisc.edu/~kbroman/presentations/IowaState2013/graphs_combined.pdf)\n",
    ":class: warning \n",
    "\n",
    "- pie charts: humans stink at interpreting angles\n",
    "- stacked bar charts: tough to decode trends \n",
    "- make your reader do math: if $x-y$ is interesting, don't plot $x$ and $y$ separately, just plot $x-y$\n",
    "- misleading scales\n",
    "- 3D unless absolutely necessary (and it almost surely isn't)\n",
    "- distracting chart junk\n",
    "- unnecessary colors\n",
    "- spaghetti charts: too many lines\n",
    "    - [the \"sparkline\" on pg. 221 here is a great solution](https://pubs.aeaweb.org/doi/pdf/10.1257/jep.28.1.209)\n",
    "    \n",
    "![](https://media.giphy.com/media/pi1u9o9M436Lu/giphy.gif)\n",
    "    \n",
    "```\n",
    "\n",
    "\n",
    "\n",
    "```{admonition} [Do's: slides 49-64](https://www.biostat.wisc.edu/~kbroman/presentations/IowaState2013/graphs_combined.pdf)\n",
    ":class: tip\n",
    "\n",
    "- Show the data, reduce the clutter, and integrate the text and the graph\n",
    "    - graphs should aspire to be sufficient to understand without reading the text\n",
    "- Control the aspect ratio \n",
    "- Think about whether you need to include zero. Sometimes excluding it makes the figure misleading. Sometimes including it (and expanding the y-axis to do so) hides the variation you're describing. \n",
    "- Facilitate comparisons:\n",
    "    - by placing figure components next to or above (depends!) the stuff it is compared to\n",
    "    - by using the same axis (two y-axes is usually bad!)\n",
    "    - **labels >  legends! (so readers' eyes don't have to dart back and forth)**\n",
    "    - **sort in meaningful orders (i.e. not alphabetically!)**\n",
    "```\n"
   ]
  },
  {
   "cell_type": "markdown",
   "metadata": {},
   "source": [
    "## Transforming bad figures to good ones\n",
    "\n",
    "![](https://stat545.com/img/less-is-more-darkhorse-analytics.gif)\n",
    "\n",
    "- [Tell a story](https://clauswilke.com/dataviz/telling-a-story.html)\n",
    "- [Look at the before/after examples here.](https://pubs.aeaweb.org/doi/pdf/10.1257/jep.28.1.209) **This article is also wonderful for understanding the \"why\"s of good data viz**\n"
   ]
  }
 ],
 "metadata": {
  "kernelspec": {
   "display_name": "Python 3 (ipykernel)",
   "language": "python",
   "name": "python3"
  },
  "language_info": {
   "codemirror_mode": {
    "name": "ipython",
    "version": 3
   },
   "file_extension": ".py",
   "mimetype": "text/x-python",
   "name": "python",
   "nbconvert_exporter": "python",
   "pygments_lexer": "ipython3",
   "version": "3.8.16"
  }
 },
 "nbformat": 4,
 "nbformat_minor": 4
}
