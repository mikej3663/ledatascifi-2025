{
 "cells": [
  {
   "cell_type": "code",
   "execution_count": null,
   "metadata": {},
   "outputs": [],
   "source": [
    "def multi_table(table_list):\n",
    "    ''' Accepts DFs and prints them side-by-side, with some space in between.\n",
    "    '''\n",
    "    from IPython.core.display import HTML\n",
    "    \n",
    "    return HTML('<table><tr >' + \n",
    "        '<tr > ' +        \n",
    "        ''.join(['<td rowspan=\"'                + str(table.shape[1]+1)+ \n",
    "                 '\" style=\"text-align:center;\">'+ table.name+ \n",
    "                 '<td></td><td></td></td>'\n",
    "                 for table in table_list]) +\n",
    "        '</tr >' +\n",
    "#         '<tr><td rowspan=\"3\" style=\"text-align:center;\">Left data<td></td><td></td></td><td rowspan=\"4\" style=\"text-align:center;\">Right data<td></td><td></td></td></tr>' +        \n",
    "        '<tr ></tr><tr ></tr><tr ></tr><tr >  ' +        \n",
    "        ''.join(['<td>' + table._repr_html_() + \n",
    "                 '<td></td><td></td></td>' \n",
    "                 for table in table_list]) +\n",
    "        '</tr></table>'\n",
    "    )\n",
    "\n",
    "multi_table([left_df,right_df])"
   ]
  }
 ],
 "metadata": {
  "kernelspec": {
   "display_name": "Python 3",
   "language": "python",
   "name": "python3"
  },
  "language_info": {
   "codemirror_mode": {
    "name": "ipython",
    "version": 3
   },
   "file_extension": ".py",
   "mimetype": "text/x-python",
   "name": "python",
   "nbconvert_exporter": "python",
   "pygments_lexer": "ipython3",
   "version": "3.8.5"
  }
 },
 "nbformat": 4,
 "nbformat_minor": 4
}
