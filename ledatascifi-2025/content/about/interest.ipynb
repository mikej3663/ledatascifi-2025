{
 "cells": [
  {
   "cell_type": "markdown",
   "id": "bf56f79f-c794-456e-a327-d928b5e81b13",
   "metadata": {
    "tags": []
   },
   "source": [
    "# Interested but unsure?\n",
    "\n",
    "```{admonition} A request from me to you\n",
    ":class: tip} \n",
    "\n",
    "- If you have any questions during the enrollment period, please reach out to me via [email](https://bowen.finance/). I'm happy to help you assess your fit for the class, or provide pointers to get through the \"bootcamp\" on the next page.\n",
    "- **If you do the bootcamp, I'd love to hear your feedback.** Which class did you try? Did you like it? How much time did you spend and what did you cover?\n",
    "```\n",
    "\n",
    "This class is essentially an applied Python course, because mastering it opens a lot of possibilities (see [here](../01/01_Motivation), [here](hall_of_awesomeness), [here](objectives), and [here](outcomes)).\n",
    "\n",
    "To encourage access, this class was set up without a coding pre-req. **However, there is no avoiding the reality that programming is a skill you can only learn by doing. If you have not coded before, you will have a steeper curve at the beginning of the class.**\n",
    "\n",
    "You should know:\n",
    "1. **Every year, [students with little or no coding background succeed in this class.](outcomes)**\n",
    "1. **You will have tremendous support because we want to see you succeed!** \n",
    "    - The class is designed to be accessible (with focus on achievable on-ramps to applied problems, no CompSci theory)\n",
    "    - I invest in you: There is a TA, and we probably offer more office hours in the initial weeks of the semester than any class you have ever taken\n",
    "1. **The [pre-class bootcamp](bootcamp) is meant to level the playing field.** \n",
    "    - Very quickly you'll have code running, which is exciting! \n",
    "    - Any work you do before the semester will make the class easier. (High ROI.)\n",
    "    - Suggested time investment: 10-20 hours will put you in **great** shape for the class. \n",
    "        - Even just 5 hours will be helpful. \n",
    "        - More will set you on a path to the [Hall of Awesomeness](hall_of_awesomeness).\n"
   ]
  }
 ],
 "metadata": {
  "kernelspec": {
   "display_name": "Python 3 (ipykernel)",
   "language": "python",
   "name": "python3"
  },
  "language_info": {
   "codemirror_mode": {
    "name": "ipython",
    "version": 3
   },
   "file_extension": ".py",
   "mimetype": "text/x-python",
   "name": "python",
   "nbconvert_exporter": "python",
   "pygments_lexer": "ipython3",
   "version": "3.8.13"
  }
 },
 "nbformat": 4,
 "nbformat_minor": 5
}
