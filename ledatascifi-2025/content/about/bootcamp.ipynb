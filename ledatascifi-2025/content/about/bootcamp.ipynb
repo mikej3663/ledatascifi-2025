{
 "cells": [
  {
   "cell_type": "markdown",
   "id": "06715383-5596-4520-a081-156b3acf6517",
   "metadata": {
    "tags": []
   },
   "source": [
    "# Pre-Class Bootcamp\n",
    "\n",
    "```{tip}\n",
    "This is optional but suggested. \n",
    "```\n",
    "\n",
    "We do work in this class by writing `python` _code_, and the _application_ we use is called JupyterLab. Getting everything going on your computer is quick. \n",
    "\n",
    "1. Install python and JupyterLab by following steps 2 and 3 [on the setup page of the textbook.](../01/02_Setup)  (_Some links on this page aren't active until the semester is about to begin._)\n",
    "1. Write and run your first python code in JupyterLab: [Watch and repeat the steps from 3:52 to 5:50 in the video on the setup page.](https://youtu.be/zKqkLEMmwBw?t=232)\n",
    "1. Get a little more familiar with JupyterLab:\n",
    "    - [Watch this short video from 1:51 on.](https://youtu.be/A5YyoCKxEOU?t=111) Try to repeat everything you see in that video in JupyterLab in the file you created in the last step.\n",
    "    - [Read section 1.6.1 of the textbook.](../01/05_jupyterlab) \n",
    "    - _Optional: The keyboard shortcuts in 1.6.3 make using JupyterLab much easier and quicker once learned. Try to incorporate using them as you learn python._\n",
    "1. Learn about and write some python code. Pick one of the courses below. Time spent watching the videos, _**typing out code in JupyterLab and running it on your computer**_, and trying problems has a high ROI. "
   ]
  },
  {
   "cell_type": "markdown",
   "id": "37285272-a530-4a30-93b1-04e3e3a2b310",
   "metadata": {
    "tags": []
   },
   "source": [
    "## Work through a free python startup class\n",
    "\n",
    "```{admonition} Neither class below uses JupyterLab, but all the code they write can be written in JupyterLab. Try to do that!\n",
    ":class: note\n",
    "- After you write code in JupyterLab, to execute/run it: Hit the play button at the top, or use the shortcut: <kbd>ctrl</kbd>+ <kbd>enter</kbd> (on Mac: &#8984; + <kbd> enter</kbd>)\n",
    "- To add a new block/section of code so you can try to work on a new problem: Hit the plus button at the top, or use the shortcut: <kbd>ESC</kbd> then <kbd>B</kbd>. \n",
    "- For tips on using JupyterLab, [revisit this short video.](https://youtu.be/A5YyoCKxEOU?t=111)\n",
    "- If you get stuck, just make a new JupyterLab notebook file to start fresh. Don't be afraid to create a lot of messy files at this point. \n",
    "- It's okay if you can't solve every problem while you're working on these on your own.\n",
    "```\n",
    "\n"
   ]
  },
  {
   "cell_type": "markdown",
   "id": "884d070e-d331-49e1-beb9-cc86e84833e2",
   "metadata": {
    "tags": []
   },
   "source": [
    "**Pick just one of these.** Either will do! (Sadly, I can't help you choose; I have received N=1 recommendation for each. Flip a coin?) \n",
    "\n",
    "Both cover the essentials and will leave you more than ready to take this class. If you cover _all_ of the suggested material for one class, you'll be in **great** shape. If you only cover some of the below, you _might_ still be fine: Every semester, about 30% students begin with zero python experience. A few drop, a few excel, and the rest make it work. \n",
    "\n",
    "```{tabbed} Python for Everyone (py4e.org)\n",
    "\n",
    "People like this because it's free, has 1-3 ten minute videos per topic, and also has where you see the instructor work through exercises. \n",
    "\n",
    "[Start here.](https://www.py4e.com/lessons)\n",
    "\n",
    "- Cover topics \n",
    "    - 3 (variables) \n",
    "    - 4 (conditional expression)\n",
    "    - 5 (functions)\n",
    "    - 6 (loops) \n",
    "    - 9 (lists)\n",
    "- For each chapter,\n",
    "    - Watch the videos and **try to type code from the videos and run it in Jupyterlab.** The more the better!\n",
    "    - Click on the \"references\" link for each chapter. The bottom of each has a few exercises to try. Try them in a JupyterLab file. \n",
    "    - If you click login, you can take the quizzes and do one question per chapter\n",
    "- Optional: Chapter 7 (strings)\n",
    "```\n",
    "\n",
    "```{tabbed} CS50p (Harvard)\n",
    "\n",
    "[Start here.](https://cs50.harvard.edu/python/2022/)\n",
    "\n",
    "- Cover topics \n",
    "    - 0 (functions, variables, and more)\n",
    "    - 1 (conditionals)\n",
    "    - 2 (loops, lists, dictionaries)\n",
    "- For each chapter,\n",
    "    - Watch the videos and **try to type code from the videos and run it in Jupyterlab.** The more the better!\n",
    "    - \"Notes\" for each chapter is a concise doc containing _some_ of what is in the video.    \n",
    "    - Each chapter has several problems. Try to solve them!\n",
    "- How to start the first problem set: [This is the page for the first problem set.](https://cs50.harvard.edu/python/2022/psets/0/) Skip all of the steps and just click on the first problem, [\"Indoor Voice\"](https://cs50.harvard.edu/python/2022/psets/0/indoor/).\n",
    "    - Read the prompt (first section at the top)\n",
    "    - Since you'll do the problem in JupyterLab, ignore the \"before you begin\" stuff\n",
    "    - Go look at the demo. That is what should happen in JupyterLab if you do it right: You'll run the code you make, it will open a prompt, you'll type \"HELLO, WORLD\", and then it will print \"hello, world\"\n",
    "    - Work until your code achieves that\n",
    "    - Similarly for subsequent problems\n",
    "\n",
    "```\n",
    "\n"
   ]
  }
 ],
 "metadata": {
  "kernelspec": {
   "display_name": "Python 3 (ipykernel)",
   "language": "python",
   "name": "python3"
  },
  "language_info": {
   "codemirror_mode": {
    "name": "ipython",
    "version": 3
   },
   "file_extension": ".py",
   "mimetype": "text/x-python",
   "name": "python",
   "nbconvert_exporter": "python",
   "pygments_lexer": "ipython3",
   "version": "3.8.13"
  }
 },
 "nbformat": 4,
 "nbformat_minor": 5
}
